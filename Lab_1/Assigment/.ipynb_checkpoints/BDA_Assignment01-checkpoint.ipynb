{
 "cells": [
  {
   "cell_type": "markdown",
   "id": "a84091bd",
   "metadata": {},
   "source": [
    "# Big Data Analytics — Assignment 01\n",
    "> Author : Badr TAJINI - Big Data Analytics - ESIEE 2025-2026\n",
    "\n",
    "**Chapter 1 :** Introduction to Big Data  \n",
    "**Chapter 2 :** MapReduce Algorithm Design\n",
    "\n",
    "**Tools :** Spark or PySpark.   \n",
    "**Advice:** Keep evidence and reproducibility."
   ]
  },
  {
   "cell_type": "markdown",
   "id": "0dc26082",
   "metadata": {},
   "source": [
    "## 0. Bootstrap\n",
    "Use Profile A from the `BDA_Installation_Guide.md`. Log versions and key Spark configs."
   ]
  },
  {
   "cell_type": "code",
   "execution_count": 26,
   "id": "5cc54307-73f2-42bf-a6f3-63c90f9a8895",
   "metadata": {},
   "outputs": [],
   "source": [
    "spark.stop()"
   ]
  },
  {
   "cell_type": "code",
   "execution_count": 1,
   "id": "89aafbec",
   "metadata": {},
   "outputs": [
    {
     "name": "stderr",
     "output_type": "stream",
     "text": [
      "WARNING: Using incubator modules: jdk.incubator.vector\n",
      "Using Spark's default log4j profile: org/apache/spark/log4j2-defaults.properties\n",
      "25/10/23 13:41:26 WARN Utils: Your hostname, Remi, resolves to a loopback address: 127.0.1.1; using 10.255.255.254 instead (on interface lo)\n",
      "25/10/23 13:41:26 WARN Utils: Set SPARK_LOCAL_IP if you need to bind to another address\n",
      "Using Spark's default log4j profile: org/apache/spark/log4j2-defaults.properties\n",
      "Setting default log level to \"WARN\".\n",
      "To adjust logging level use sc.setLogLevel(newLevel). For SparkR, use setLogLevel(newLevel).\n",
      "25/10/23 13:41:27 WARN NativeCodeLoader: Unable to load native-hadoop library for your platform... using builtin-java classes where applicable\n"
     ]
    },
    {
     "name": "stdout",
     "output_type": "stream",
     "text": [
      "Spark version: 4.0.1\n",
      "PySpark version: 4.0.1\n",
      "Python version: 3.10.19\n",
      "Session timezone: Europe/Paris\n"
     ]
    }
   ],
   "source": [
    "import sys\n",
    "import platform\n",
    "from pyspark.sql import SparkSession\n",
    "import pyspark\n",
    "\n",
    "spark = (\n",
    "    SparkSession.builder\n",
    "    .appName(\"BDA-AssignmentLab-01\")\n",
    "    .config(\"spark.ui.port\", \"4046\")\n",
    "    .getOrCreate()\n",
    ")\n",
    "\n",
    "spark.sparkContext.setLogLevel(\"WARN\")\n",
    "\n",
    "print(f\"Spark version: {spark.version}\")\n",
    "print(f\"PySpark version: {pyspark.__version__}\")\n",
    "print(f\"Python version: {sys.version.split()[0]}\")\n",
    "print(f\"Session timezone: {spark.conf.get('spark.sql.session.timeZone')}\")\n"
   ]
  },
  {
   "cell_type": "code",
   "execution_count": 2,
   "id": "ee515631-61ca-4da3-bd8a-6f71434fce17",
   "metadata": {},
   "outputs": [
    {
     "name": "stdout",
     "output_type": "stream",
     "text": [
      "http://10.255.255.254:4046\n"
     ]
    }
   ],
   "source": [
    "print(spark.sparkContext.uiWebUrl)"
   ]
  },
  {
   "cell_type": "markdown",
   "id": "f8d8614f",
   "metadata": {},
   "source": [
    "## 1. Load dataset"
   ]
  },
  {
   "cell_type": "code",
   "execution_count": 3,
   "id": "0bf4292f",
   "metadata": {},
   "outputs": [
    {
     "name": "stderr",
     "output_type": "stream",
     "text": [
      "                                                                                "
     ]
    },
    {
     "name": "stdout",
     "output_type": "stream",
     "text": [
      "Data loaded from: /mnt/c/Users/rerel/OneDrive/Bureau/Esiee/Esiee/E5/BDA/Lab_1/Assigment/data/shakespeare.txt\n",
      "+----------------------+\n",
      "|line                  |\n",
      "+----------------------+\n",
      "|1609                  |\n",
      "|                      |\n",
      "|THE SONNETS           |\n",
      "|                      |\n",
      "|by William Shakespeare|\n",
      "+----------------------+\n",
      "only showing top 5 rows\n"
     ]
    }
   ],
   "source": [
    "from pathlib import Path\n",
    "import urllib.request\n",
    "\n",
    "BASE_DIR = Path.cwd()\n",
    "DATA_DIR = BASE_DIR / \"data\"\n",
    "OUTPUTS_DIR = BASE_DIR / \"outputs\"\n",
    "PROOF_DIR = BASE_DIR / \"proof\"\n",
    "for directory in (DATA_DIR, OUTPUTS_DIR, PROOF_DIR):\n",
    "    directory.mkdir(exist_ok=True)\n",
    "\n",
    "SHAKESPEARE_URL = \"https://raw.githubusercontent.com/karpathy/char-rnn/master/data/tinyshakespeare/input.txt\"\n",
    "TEXT_PATH = DATA_DIR / \"shakespeare.txt\"\n",
    "if not TEXT_PATH.exists():\n",
    "    urllib.request.urlretrieve(SHAKESPEARE_URL, TEXT_PATH)\n",
    "\n",
    "raw_rdd = spark.sparkContext.textFile(str(TEXT_PATH)).cache()\n",
    "lines_df = spark.read.text(str(TEXT_PATH)).withColumnRenamed(\"value\", \"line\").cache()\n",
    "\n",
    "# Materialize caches\n",
    "raw_rdd.count()\n",
    "lines_df.count()\n",
    "\n",
    "print(f\"Data loaded from: {TEXT_PATH}\")\n",
    "lines_df.show(5, truncate=False)\n"
   ]
  },
  {
   "cell_type": "markdown",
   "id": "98ad4247",
   "metadata": {},
   "source": [
    "## 2. Part A — “perfect x” follower counts"
   ]
  },
  {
   "cell_type": "code",
   "execution_count": 4,
   "id": "2b1a2732-4332-463a-acf7-b84c429972f8",
   "metadata": {},
   "outputs": [
    {
     "name": "stderr",
     "output_type": "stream",
     "text": [
      "25/10/23 13:41:38 WARN WindowExec: No Partition Defined for Window operation! Moving all data to a single partition, this can cause serious performance degradation.\n",
      "25/10/23 13:41:39 WARN WindowExec: No Partition Defined for Window operation! Moving all data to a single partition, this can cause serious performance degradation.\n",
      "25/10/23 13:41:39 WARN WindowExec: No Partition Defined for Window operation! Moving all data to a single partition, this can cause serious performance degradation.\n",
      "25/10/23 13:41:39 WARN WindowExec: No Partition Defined for Window operation! Moving all data to a single partition, this can cause serious performance degradation.\n",
      "25/10/23 13:41:41 WARN WindowExec: No Partition Defined for Window operation! Moving all data to a single partition, this can cause serious performance degradation.\n",
      "25/10/23 13:41:41 WARN WindowExec: No Partition Defined for Window operation! Moving all data to a single partition, this can cause serious performance degradation.\n",
      "                                                                                "
     ]
    },
    {
     "name": "stdout",
     "output_type": "stream",
     "text": [
      "✅ Résultats écrits dans /mnt/c/Users/rerel/OneDrive/Bureau/Esiee/Esiee/E5/BDA/Lab_1/Assigment/outputs/perfect_followers.csv\n",
      "== Physical Plan ==\n",
      "AdaptiveSparkPlan (17)\n",
      "+- Sort (16)\n",
      "   +- Filter (15)\n",
      "      +- HashAggregate (14)\n",
      "         +- HashAggregate (13)\n",
      "            +- Project (12)\n",
      "               +- Filter (11)\n",
      "                  +- Window (10)\n",
      "                     +- Sort (9)\n",
      "                        +- Exchange (8)\n",
      "                           +- Project (7)\n",
      "                              +- Filter (6)\n",
      "                                 +- Generate (5)\n",
      "                                    +- InMemoryTableScan (1)\n",
      "                                          +- InMemoryRelation (2)\n",
      "                                                +- * Project (4)\n",
      "                                                   +- Scan text  (3)\n",
      "\n",
      "\n",
      "(1) InMemoryTableScan\n",
      "Output [1]: [line#2]\n",
      "Arguments: [line#2]\n",
      "\n",
      "(2) InMemoryRelation\n",
      "Arguments: [line#2], StorageLevel(disk, memory, deserialized, 1 replicas)\n",
      "\n",
      "(3) Scan text \n",
      "Output [1]: [value#0]\n",
      "Batched: false\n",
      "Location: InMemoryFileIndex [file:/mnt/c/Users/rerel/OneDrive/Bureau/Esiee/Esiee/E5/BDA/Lab_1/Assigment/data/shakespeare.txt]\n",
      "ReadSchema: struct<value:string>\n",
      "\n",
      "(4) Project [codegen id : 1]\n",
      "Output [1]: [value#0 AS line#2]\n",
      "Input [1]: [value#0]\n",
      "\n",
      "(5) Generate\n",
      "Input [1]: [line#2]\n",
      "Arguments: explode(split(lower(line#2), [^a-z]+, -1)), false, [token#64]\n",
      "\n",
      "(6) Filter\n",
      "Input [1]: [token#64]\n",
      "Condition : NOT (token#64 = )\n",
      "\n",
      "(7) Project\n",
      "Output [2]: [token#64, monotonically_increasing_id() AS _w0#66L]\n",
      "Input [1]: [token#64]\n",
      "\n",
      "(8) Exchange\n",
      "Input [2]: [token#64, _w0#66L]\n",
      "Arguments: SinglePartition, ENSURE_REQUIREMENTS, [plan_id=327]\n",
      "\n",
      "(9) Sort\n",
      "Input [2]: [token#64, _w0#66L]\n",
      "Arguments: [_w0#66L ASC NULLS FIRST], false, 0\n",
      "\n",
      "(10) Window\n",
      "Input [2]: [token#64, _w0#66L]\n",
      "Arguments: [lead(token#64, 1, null) windowspecdefinition(_w0#66L ASC NULLS FIRST, specifiedwindowframe(RowFrame, 1, 1)) AS next_token#65], [_w0#66L ASC NULLS FIRST]\n",
      "\n",
      "(11) Filter\n",
      "Input [3]: [token#64, _w0#66L, next_token#65]\n",
      "Condition : (token#64 = perfect)\n",
      "\n",
      "(12) Project\n",
      "Output [1]: [next_token#65]\n",
      "Input [3]: [token#64, _w0#66L, next_token#65]\n",
      "\n",
      "(13) HashAggregate\n",
      "Input [1]: [next_token#65]\n",
      "Keys [1]: [next_token#65]\n",
      "Functions [1]: [partial_count(1)]\n",
      "Aggregate Attributes [1]: [count#87L]\n",
      "Results [2]: [next_token#65, count#88L]\n",
      "\n",
      "(14) HashAggregate\n",
      "Input [2]: [next_token#65, count#88L]\n",
      "Keys [1]: [next_token#65]\n",
      "Functions [1]: [count(1)]\n",
      "Aggregate Attributes [1]: [count(1)#71L]\n",
      "Results [2]: [next_token#65, count(1)#71L AS count#67L]\n",
      "\n",
      "(15) Filter\n",
      "Input [2]: [next_token#65, count#67L]\n",
      "Condition : (count#67L > 1)\n",
      "\n",
      "(16) Sort\n",
      "Input [2]: [next_token#65, count#67L]\n",
      "Arguments: [count#67L DESC NULLS LAST], true, 0\n",
      "\n",
      "(17) AdaptiveSparkPlan\n",
      "Output [2]: [next_token#65, count#67L]\n",
      "Arguments: isFinalPlan=false\n",
      "\n",
      "\n",
      "🧠 Plan d'exécution sauvegardé dans /mnt/c/Users/rerel/OneDrive/Bureau/Esiee/Esiee/E5/BDA/Lab_1/Assigment/proof/plan_perfect.txt\n"
     ]
    },
    {
     "name": "stderr",
     "output_type": "stream",
     "text": [
      "25/10/23 13:41:43 WARN WindowExec: No Partition Defined for Window operation! Moving all data to a single partition, this can cause serious performance degradation.\n",
      "25/10/23 13:41:43 WARN WindowExec: No Partition Defined for Window operation! Moving all data to a single partition, this can cause serious performance degradation.\n"
     ]
    }
   ],
   "source": [
    "# write some code here \n",
    "from pyspark.sql import functions as F\n",
    "from contextlib import redirect_stdout\n",
    "from io import StringIO\n",
    "# - tokenize lowercase, split on non-letters \n",
    "tokenized = (\n",
    "    lines_df\n",
    "    .withColumn(\"token\", F.explode(F.split(F.lower(F.col(\"line\")), \"[^a-z]+\")))\n",
    "    .filter(F.col(\"token\") != \"\")\n",
    ")\n",
    "# - for each line, if tokens[i]=='perfect' take tokens[i+1] \n",
    "from pyspark.sql.window import Window\n",
    "window = Window.orderBy(F.monotonically_increasing_id())\n",
    "with_next = tokenized.withColumn(\"next_token\", F.lead(\"token\").over(window))\n",
    "followers = (\n",
    "    with_next\n",
    "    .filter(F.col(\"token\") == \"perfect\")\n",
    "    .groupBy(\"next_token\")\n",
    "    .count()\n",
    "    .filter(F.col(\"count\") > 1)        # on garde ceux qui apparaissent plus d'une fois\n",
    "    .orderBy(F.desc(\"count\"))\n",
    ")\n",
    "# - discard followers with count=1\n",
    "# - write outputs/perfect_followers.csv \n",
    "output_path = OUTPUTS_DIR / \"perfect_followers.csv\"\n",
    "followers.write.mode(\"overwrite\").option(\"header\", True).csv(str(output_path))\n",
    "print(f\"✅ Résultats écrits dans {output_path}\")\n",
    "# - save explain('formatted') to proof/plan_perfect.txt\n",
    "# 5️⃣ Sauvegarder le plan d'exécution dans proof/plan_perfect.txt\n",
    "plan_path = PROOF_DIR / \"plan_perfect.txt\"\n",
    "\n",
    "# La méthode Python `explain()` écrit dans la sortie standard,\n",
    "# donc on la capture proprement dans un fichier :\n",
    "with open(plan_path, \"w\") as f:\n",
    "    followers.explain(mode=\"formatted\")  # affichera dans ton notebook\n",
    "    import io, contextlib\n",
    "    buffer = io.StringIO()\n",
    "    with contextlib.redirect_stdout(buffer):\n",
    "        followers.explain(mode=\"formatted\")\n",
    "    f.write(buffer.getvalue())\n",
    "\n",
    "print(f\"🧠 Plan d'exécution sauvegardé dans {plan_path}\")\n"
   ]
  },
  {
   "cell_type": "markdown",
   "id": "8246cd05",
   "metadata": {},
   "source": [
    "## 3. Part B — PMI with RDDs: pairs"
   ]
  },
  {
   "cell_type": "code",
   "execution_count": 6,
   "id": "0d47825f",
   "metadata": {},
   "outputs": [
    {
     "name": "stderr",
     "output_type": "stream",
     "text": [
      "                                                                                "
     ]
    },
    {
     "name": "stdout",
     "output_type": "stream",
     "text": [
      "✅ Écrit: /mnt/c/Users/rerel/OneDrive/Bureau/Esiee/Esiee/E5/BDA/Lab_1/Assigment/outputs/pmi_stripes_sample.csv\n",
      "🧠 Plan sauvegardé: /mnt/c/Users/rerel/OneDrive/Bureau/Esiee/Esiee/E5/BDA/Lab_1/Assigment/proof/plan_pmi_stripes.txt\n"
     ]
    }
   ],
   "source": [
    "# write some code here\n",
    "# - parse --threshold K\n",
    "# - keep first 40 tokens per line\n",
    "# - compute counts for x and (x,y); then PMI=log10(P(x,y)/(P(x)P(x)))\n",
    "# - filter by threshold; write outputs/pmi_pairs_sample.csv\n",
    "# - save plan text to proof/plan_pmi_pairs.txt if DF used\n",
    "\n",
    "import re, math\n",
    "from pyspark.sql import functions as F\n",
    "\n",
    "# --- Helper pour tokeniser les lignes ---\n",
    "WORD_RE = re.compile(r\"[a-z]+\")\n",
    "def tokenize(line):\n",
    "    tokens = WORD_RE.findall(line.lower())\n",
    "    return tokens[:40]  # garder les 40 premiers tokens\n",
    "\n",
    "# 1️⃣ Lire et tokeniser le texte\n",
    "docs = raw_rdd.map(tokenize).map(lambda ts: list(dict.fromkeys(ts)))  # tokens uniques\n",
    "\n",
    "# 2️⃣ Paramètre seuil\n",
    "K = 5  # par exemple, tu peux aussi le passer en argument si besoin\n",
    "\n",
    "# 3️⃣ Calcul des univariés (comptage des mots uniques par ligne)\n",
    "unigrams = (docs.flatMap(lambda ts: [(t, 1) for t in ts])\n",
    "                 .reduceByKey(lambda a, b: a + b))\n",
    "uni_counts = dict(unigrams.collect())\n",
    "bc_uni = spark.sparkContext.broadcast(uni_counts)\n",
    "\n",
    "# 4️⃣ Calcul des cooccurrences (x, y)\n",
    "def pairify(tokens):\n",
    "    s = set(tokens)\n",
    "    return [((x, y), 1) for x in s for y in s if x != y]\n",
    "\n",
    "pairs = docs.flatMap(pairify).reduceByKey(lambda a, b: a + b)\n",
    "\n",
    "# 5️⃣ Nombre total de documents (pour P(x,y))\n",
    "N = docs.count()\n",
    "\n",
    "# 6️⃣ Calcul du PMI pour chaque paire\n",
    "def compute_pmi(rec):\n",
    "    (x, y), cxy = rec\n",
    "    cx = bc_uni.value.get(x, 1)\n",
    "    cy = bc_uni.value.get(y, 1)\n",
    "    pmi = math.log10((cxy * N) / (cx * cy))\n",
    "    return (x, y, int(cxy), float(pmi))\n",
    "\n",
    "pmi_rdd = pairs.filter(lambda kv: kv[1] >= K).map(compute_pmi)\n",
    "\n",
    "# 7️⃣ Conversion en DataFrame\n",
    "pmi_df = spark.createDataFrame(pmi_rdd, [\"x\", \"y\", \"count\", \"pmi\"])\n",
    "sample_df = pmi_df.orderBy(F.desc(\"pmi\"), F.desc(\"count\")).limit(50)\n",
    "\n",
    "# 8️⃣ Écriture du CSV\n",
    "out_path = OUTPUTS_DIR / \"pmi_pairs_sample.csv\"\n",
    "sample_df.coalesce(1).write.mode(\"overwrite\").option(\"header\", True).csv(str(out_path))\n",
    "print(f\"✅ Échantillon écrit dans {out_path}\")\n",
    "\n",
    "# 9️⃣ Sauvegarde du plan dans proof/plan_pmi_pairs.txt\n",
    "plan_path = PROOF_DIR / \"plan_pmi_pairs.txt\"\n",
    "import io, contextlib\n",
    "\n",
    "buf = io.StringIO()\n",
    "with contextlib.redirect_stdout(buf):\n",
    "    sample_df.explain(\"formatted\")\n",
    "\n",
    "with open(plan_path, \"w\") as f:\n",
    "    f.write(buf.getvalue())\n",
    "\n",
    "print(f\"🧠 Plan sauvegardé dans {plan_path}\")\n"
   ]
  },
  {
   "cell_type": "markdown",
   "id": "13dcd21f",
   "metadata": {},
   "source": [
    "## 4. Part B — PMI with RDDs: stripes"
   ]
  },
  {
   "cell_type": "code",
   "execution_count": 8,
   "id": "b0245662",
   "metadata": {},
   "outputs": [
    {
     "name": "stderr",
     "output_type": "stream",
     "text": [
      "                                                                                "
     ]
    },
    {
     "name": "stdout",
     "output_type": "stream",
     "text": [
      "✅ Échantillon écrit dans /mnt/c/Users/rerel/OneDrive/Bureau/Esiee/Esiee/E5/BDA/Lab_1/Assigment/outputs/pmi_stripes_sample.csv\n",
      "🧠 Plan sauvegardé dans /mnt/c/Users/rerel/OneDrive/Bureau/Esiee/Esiee/E5/BDA/Lab_1/Assigment/proof/plan_pmi_stripes.txt\n"
     ]
    }
   ],
   "source": [
    "# write some code here\n",
    "# - build stripes x -> map[y -> count] with combiners\n",
    "# - reuse univariate counts; compute PMI with log10\n",
    "# - threshold K; write outputs/pmi_stripes_sample.csv\n",
    "# - plan to proof/plan_pmi_stripes.txt if DF used\n",
    "\n",
    "import re, math\n",
    "from pyspark.sql import functions as F\n",
    "\n",
    "# --- Helper pour tokeniser les lignes ---\n",
    "WORD_RE = re.compile(r\"[a-z]+\")\n",
    "def tokenize(line):\n",
    "    return WORD_RE.findall(line.lower())\n",
    "\n",
    "# 1️⃣ Construire les documents (liste de tokens uniques par ligne)\n",
    "docs = raw_rdd.map(tokenize).map(lambda tokens: list(dict.fromkeys(tokens)))\n",
    "\n",
    "# 2️⃣ Compter les lignes valides et calculer les univariés\n",
    "N = docs.filter(lambda ts: len(ts) > 1).count()\n",
    "unigrams = (docs.flatMap(lambda ts: [(t, 1) for t in ts])\n",
    "                 .reduceByKey(lambda a, b: a + b))\n",
    "uni_counts = dict(unigrams.collect())\n",
    "bc_uni = spark.sparkContext.broadcast(uni_counts)\n",
    "\n",
    "# 3️⃣ Construire les stripes x -> {y: count} avec combiners\n",
    "def stripes_from_line(tokens):\n",
    "    pairs = []\n",
    "    s = set(tokens)\n",
    "    for x in s:\n",
    "        stripe = {}\n",
    "        for y in s:\n",
    "            if y != x:\n",
    "                stripe[y] = 1\n",
    "        if stripe:\n",
    "            pairs.append((x, stripe))\n",
    "    return pairs\n",
    "\n",
    "def merge_maps(a, b):\n",
    "    for k, v in b.items():\n",
    "        a[k] = a.get(k, 0) + v\n",
    "    return a\n",
    "\n",
    "stripes = docs.flatMap(stripes_from_line).reduceByKey(merge_maps)\n",
    "\n",
    "# 4️⃣ Calcul du PMI à partir des stripes et des comptes univariés\n",
    "def to_pmi(record):\n",
    "    x, stripe = record\n",
    "    results = []\n",
    "    cx = bc_uni.value.get(x, 1)\n",
    "    for y, cxy in stripe.items():\n",
    "        cy = bc_uni.value.get(y, 1)\n",
    "        pmi = math.log10((cxy * N) / (cx * cy))\n",
    "        results.append((x, y, cxy, pmi))\n",
    "    return results\n",
    "\n",
    "pairs = stripes.flatMap(to_pmi)\n",
    "\n",
    "# 5️⃣ Filtrer selon un seuil K\n",
    "K = 5\n",
    "filtered = pairs.filter(lambda r: r[2] >= K)\n",
    "\n",
    "# 6️⃣ Convertir en DataFrame et sauvegarder un échantillon\n",
    "pmi_df = spark.createDataFrame(filtered, [\"x\", \"y\", \"count\", \"pmi\"])\n",
    "sample_df = pmi_df.orderBy(F.desc(\"pmi\")).limit(50)\n",
    "\n",
    "out_path = OUTPUTS_DIR / \"pmi_stripes_sample.csv\"\n",
    "sample_df.coalesce(1).write.mode(\"overwrite\").option(\"header\", True).csv(str(out_path))\n",
    "print(f\"✅ Échantillon écrit dans {out_path}\")\n",
    "\n",
    "# 7️⃣ Sauvegarder le plan logique dans proof/plan_pmi_stripes.txt\n",
    "plan_path = PROOF_DIR / \"plan_pmi_stripes.txt\"\n",
    "\n",
    "import io, contextlib\n",
    "\n",
    "buf = io.StringIO()\n",
    "with contextlib.redirect_stdout(buf):\n",
    "    sample_df.explain(\"formatted\")  # capture la sortie de Spark\n",
    "with open(plan_path, \"w\") as f:\n",
    "    f.write(buf.getvalue())\n",
    "\n",
    "print(f\"🧠 Plan sauvegardé dans {plan_path}\")\n",
    "\n"
   ]
  },
  {
   "cell_type": "markdown",
   "id": "9cec5806",
   "metadata": {},
   "source": [
    "## 5. Spark UI evidence\n",
    "Open http://localhost:4046 during runs and capture Files Read, Input Size, Shuffle Read/Write."
   ]
  },
  {
   "cell_type": "markdown",
   "id": "d2c2ef5a",
   "metadata": {},
   "source": [
    "## 6. Environment and reproducibility"
   ]
  },
  {
   "cell_type": "code",
   "execution_count": 9,
   "id": "0f01663d",
   "metadata": {},
   "outputs": [],
   "source": [
    "# write some code here\n",
    "# - print Java version, Spark conf, OS info\n",
    "# - save ENV.md: versions + key configs\n",
    "import json\n",
    "import subprocess\n",
    "\n",
    "def get_java_version():\n",
    "    try:\n",
    "        output = subprocess.check_output([\"java\", \"-version\"], stderr=subprocess.STDOUT)\n",
    "        return output.decode(\"utf-8\").strip().splitlines()[0]\n",
    "    except Exception as exc:\n",
    "        return f\"Unavailable ({exc})\"\n",
    "\n",
    "java_output = get_java_version()\n",
    "print(f\"Java: {java_output}\")\n",
    "\n",
    "print(\"Spark configuration (selected):\")\n",
    "conf_items = sorted(spark.sparkContext.getConf().getAll())\n",
    "for key, value in conf_items:\n",
    "    print(f\" - {key} = {value}\")\n",
    "\n",
    "env_summary = {\n",
    "    \"python\": sys.version,\n",
    "    \"spark\": spark.version,\n",
    "    \"pyspark\": pyspark.__version__,\n",
    "    \"java\": java_output,\n",
    "    \"os\": platform.platform(),\n",
    "    \"spark_conf\": {k: v for k, v in conf_items if k.startswith(\"spark.\")}\n",
    "}\n",
    "\n",
    "env_lines = [\n",
    "    \"# Environment Summary\",\n",
    "    \"\",\n",
    "    f\"- Python: {sys.version.split()[0]}\",\n",
    "    f\"- Spark: {spark.version}\",\n",
    "    f\"- PySpark: {pyspark.__version__}\",\n",
    "    f\"- Java: {java_output}\",\n",
    "    f\"- OS: {platform.platform()}\",\n",
    "    \"\",\n",
    "    \"## Spark Configuration\"\n",
    "]\n",
    "\n",
    "env_lines.extend(f\"- {k} = {v}\" for k, v in env_summary[\"spark_conf\"].items())\n",
    "\n",
    "ENV_PATH = Path(\"ENV.md\")\n",
    "ENV_PATH.write_text(\"\\n\".join(env_lines) + \"\\n\")\n",
    "\n",
    "print(f\"Environment details saved to {ENV_PATH.resolve()}\")"
   ]
  }
 ],
 "metadata": {
  "kernelspec": {
   "display_name": "Python 3 (ipykernel)",
   "language": "python",
   "name": "python3"
  },
  "language_info": {
   "codemirror_mode": {
    "name": "ipython",
    "version": 3
   },
   "file_extension": ".py",
   "mimetype": "text/x-python",
   "name": "python",
   "nbconvert_exporter": "python",
   "pygments_lexer": "ipython3",
   "version": "3.10.19"
  }
 },
 "nbformat": 4,
 "nbformat_minor": 5
}
