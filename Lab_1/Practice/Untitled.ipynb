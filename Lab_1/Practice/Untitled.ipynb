{
 "cells": [
  {
   "cell_type": "code",
   "execution_count": 1,
   "id": "abe60b02-150d-4590-ab7f-eb129970084e",
   "metadata": {},
   "outputs": [
    {
     "name": "stderr",
     "output_type": "stream",
     "text": [
      "WARNING: Using incubator modules: jdk.incubator.vector\n",
      "Using Spark's default log4j profile: org/apache/spark/log4j2-defaults.properties\n",
      "25/10/23 10:29:58 WARN Utils: Your hostname, Remi, resolves to a loopback address: 127.0.1.1; using 10.255.255.254 instead (on interface lo)\n",
      "25/10/23 10:29:58 WARN Utils: Set SPARK_LOCAL_IP if you need to bind to another address\n",
      "Using Spark's default log4j profile: org/apache/spark/log4j2-defaults.properties\n",
      "Setting default log level to \"WARN\".\n",
      "To adjust logging level use sc.setLogLevel(newLevel). For SparkR, use setLogLevel(newLevel).\n",
      "25/10/23 10:29:57 WARN NativeCodeLoader: Unable to load native-hadoop library for your platform... using builtin-java classes where applicable\n",
      "25/10/23 10:29:58 WARN Utils: Service 'SparkUI' could not bind on port 4040. Attempting port 4041.\n",
      "25/10/23 10:29:58 WARN Utils: Service 'SparkUI' could not bind on port 4041. Attempting port 4042.\n",
      "25/10/23 10:29:58 WARN Utils: Service 'SparkUI' could not bind on port 4042. Attempting port 4043.\n",
      "25/10/23 10:29:58 WARN Utils: Service 'SparkUI' could not bind on port 4043. Attempting port 4044.\n"
     ]
    },
    {
     "name": "stdout",
     "output_type": "stream",
     "text": [
      "Spark version: 4.0.1\n",
      "PySpark version: 4.0.1\n",
      "Python version: 3.10.19\n",
      "Session timezone: UTC\n"
     ]
    }
   ],
   "source": [
    "import sys\n",
    "import platform\n",
    "from pyspark.sql import SparkSession\n",
    "import pyspark\n",
    "\n",
    "spark = (\n",
    "    SparkSession.builder\n",
    "    .appName(\"BDA-PracticeLab01-2\")\n",
    "    .config(\"spark.sql.session.timeZone\", \"UTC\")\n",
    "    .getOrCreate()\n",
    ")\n",
    "\n",
    "spark.sparkContext.setLogLevel(\"WARN\")\n",
    "\n",
    "print(f\"Spark version: {spark.version}\")\n",
    "print(f\"PySpark version: {pyspark.__version__}\")\n",
    "print(f\"Python version: {sys.version.split()[0]}\")\n",
    "print(f\"Session timezone: {spark.conf.get('spark.sql.session.timeZone')}\")\n"
   ]
  },
  {
   "cell_type": "code",
   "execution_count": 2,
   "id": "4a627073-86ab-4874-b607-603f567690e9",
   "metadata": {},
   "outputs": [
    {
     "name": "stdout",
     "output_type": "stream",
     "text": [
      "http://10.255.255.254:4044\n"
     ]
    }
   ],
   "source": [
    "print(spark.sparkContext.uiWebUrl)"
   ]
  },
  {
   "cell_type": "code",
   "execution_count": 3,
   "id": "8f930ba0-e063-401b-a469-fac5e4b9cf11",
   "metadata": {},
   "outputs": [
    {
     "name": "stderr",
     "output_type": "stream",
     "text": [
      "                                                                                "
     ]
    },
    {
     "name": "stdout",
     "output_type": "stream",
     "text": [
      "Data loaded from: /mnt/c/Users/rerel/OneDrive/Bureau/Esiee/Esiee/E5/BDA/Lab_1/data/tiny_shakespeare.txt\n",
      "+---------------------------------------------+\n",
      "|line                                         |\n",
      "+---------------------------------------------+\n",
      "|First Citizen:                               |\n",
      "|Before we proceed any further, hear me speak.|\n",
      "|                                             |\n",
      "|All:                                         |\n",
      "|Speak, speak.                                |\n",
      "+---------------------------------------------+\n",
      "only showing top 5 rows\n"
     ]
    }
   ],
   "source": [
    "from pathlib import Path\n",
    "import urllib.request\n",
    "\n",
    "BASE_DIR = Path.cwd()\n",
    "DATA_DIR = BASE_DIR / \"data\"\n",
    "OUTPUTS_DIR = BASE_DIR / \"outputs\"\n",
    "PROOF_DIR = BASE_DIR / \"proof\"\n",
    "for directory in (DATA_DIR, OUTPUTS_DIR, PROOF_DIR):\n",
    "    directory.mkdir(exist_ok=True)\n",
    "\n",
    "SHAKESPEARE_URL = \"https://raw.githubusercontent.com/karpathy/char-rnn/master/data/tinyshakespeare/input.txt\"\n",
    "TEXT_PATH = DATA_DIR / \"tiny_shakespeare.txt\"\n",
    "if not TEXT_PATH.exists():\n",
    "    urllib.request.urlretrieve(SHAKESPEARE_URL, TEXT_PATH)\n",
    "\n",
    "raw_rdd = spark.sparkContext.textFile(str(TEXT_PATH)).cache()\n",
    "lines_df = spark.read.text(str(TEXT_PATH)).withColumnRenamed(\"value\", \"line\").cache()\n",
    "\n",
    "# Materialize caches\n",
    "raw_rdd.count()\n",
    "lines_df.count()\n",
    "\n",
    "print(f\"Data loaded from: {TEXT_PATH}\")\n",
    "lines_df.show(5, truncate=False)\n"
   ]
  },
  {
   "cell_type": "code",
   "execution_count": 5,
   "id": "ad6cedcf-61b4-4718-93b7-c82607967713",
   "metadata": {},
   "outputs": [
    {
     "ename": "TypeError",
     "evalue": "object of type 'PipelinedRDD' has no len()",
     "output_type": "error",
     "traceback": [
      "\u001b[0;31m---------------------------------------------------------------------------\u001b[0m",
      "\u001b[0;31mTypeError\u001b[0m                                 Traceback (most recent call last)",
      "Cell \u001b[0;32mIn[5], line 14\u001b[0m\n\u001b[1;32m      5\u001b[0m token_pattern \u001b[38;5;241m=\u001b[39m re\u001b[38;5;241m.\u001b[39mcompile(\u001b[38;5;124mr\u001b[39m\u001b[38;5;124m\"\u001b[39m\u001b[38;5;124m[a-z]+\u001b[39m\u001b[38;5;124m\"\u001b[39m)\n\u001b[1;32m      7\u001b[0m word_counts_rdd \u001b[38;5;241m=\u001b[39m (\n\u001b[1;32m      8\u001b[0m     raw_rdd\n\u001b[1;32m      9\u001b[0m     \u001b[38;5;241m.\u001b[39mmap(\u001b[38;5;28;01mlambda\u001b[39;00m line: token_pattern\u001b[38;5;241m.\u001b[39mfindall(line\u001b[38;5;241m.\u001b[39mlower()))\n\u001b[0;32m   (...)\u001b[0m\n\u001b[1;32m     12\u001b[0m     \u001b[38;5;241m.\u001b[39mreduceByKey(add)\n\u001b[1;32m     13\u001b[0m )\n\u001b[0;32m---> 14\u001b[0m \u001b[38;5;28mprint\u001b[39m(\u001b[38;5;28;43mlen\u001b[39;49m\u001b[43m(\u001b[49m\u001b[43mword_counts_rdd\u001b[49m\u001b[43m)\u001b[49m)\n\u001b[1;32m     15\u001b[0m top10_rdd \u001b[38;5;241m=\u001b[39m word_counts_rdd\u001b[38;5;241m.\u001b[39mtakeOrdered(\u001b[38;5;241m10\u001b[39m, key\u001b[38;5;241m=\u001b[39m\u001b[38;5;28;01mlambda\u001b[39;00m kv: (\u001b[38;5;241m-\u001b[39mkv[\u001b[38;5;241m1\u001b[39m], kv[\u001b[38;5;241m0\u001b[39m]))\n\u001b[1;32m     17\u001b[0m pd\u001b[38;5;241m.\u001b[39mDataFrame(top10_rdd, columns\u001b[38;5;241m=\u001b[39m[\u001b[38;5;124m\"\u001b[39m\u001b[38;5;124mtoken\u001b[39m\u001b[38;5;124m\"\u001b[39m, \u001b[38;5;124m\"\u001b[39m\u001b[38;5;124mcount\u001b[39m\u001b[38;5;124m\"\u001b[39m])\u001b[38;5;241m.\u001b[39mto_csv(OUTPUTS_DIR \u001b[38;5;241m/\u001b[39m \u001b[38;5;124m\"\u001b[39m\u001b[38;5;124mtop10_rdd.csv\u001b[39m\u001b[38;5;124m\"\u001b[39m, index\u001b[38;5;241m=\u001b[39m\u001b[38;5;28;01mFalse\u001b[39;00m)\n",
      "\u001b[0;31mTypeError\u001b[0m: object of type 'PipelinedRDD' has no len()"
     ]
    }
   ],
   "source": [
    "import re\n",
    "from operator import add\n",
    "import pandas as pd\n",
    "\n",
    "token_pattern = re.compile(r\"[a-z]+\")\n",
    "\n",
    "word_counts_rdd = (\n",
    "    raw_rdd\n",
    "    .map(lambda line: token_pattern.findall(line.lower()))\n",
    "    .flatMap(lambda tokens: tokens)\n",
    "    .map(lambda token: (token, 1))\n",
    "    .reduceByKey(add)\n",
    ")\n",
    "print(len(word_counts_rdd))\n",
    "top10_rdd = word_counts_rdd.takeOrdered(10, key=lambda kv: (-kv[1], kv[0]))\n",
    "\n",
    "pd.DataFrame(top10_rdd, columns=[\"token\", \"count\"]).to_csv(OUTPUTS_DIR / \"top10_rdd.csv\", index=False)\n",
    "\n",
    "print(\"Top 10 tokens (RDD):\")\n",
    "for token, count in top10_rdd:\n",
    "    print(f\"{token}: {count}\")\n"
   ]
  },
  {
   "cell_type": "code",
   "execution_count": null,
   "id": "80b9450f-5240-4b8a-9d60-f92d0b3cb796",
   "metadata": {},
   "outputs": [],
   "source": []
  }
 ],
 "metadata": {
  "kernelspec": {
   "display_name": "Python 3 (ipykernel)",
   "language": "python",
   "name": "python3"
  },
  "language_info": {
   "codemirror_mode": {
    "name": "ipython",
    "version": 3
   },
   "file_extension": ".py",
   "mimetype": "text/x-python",
   "name": "python",
   "nbconvert_exporter": "python",
   "pygments_lexer": "ipython3",
   "version": "3.10.19"
  }
 },
 "nbformat": 4,
 "nbformat_minor": 5
}
