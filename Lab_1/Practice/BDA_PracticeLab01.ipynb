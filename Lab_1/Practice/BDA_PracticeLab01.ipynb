{
 "cells": [
  {
   "cell_type": "markdown",
   "id": "ed9fd079",
   "metadata": {},
   "source": [
    "# BDA — Practice Lab 01 Notebook\n",
    "> Author : Badr TAJINI - Big Data Analytics - ESIEE 2025-2026\n",
    "\n",
    "Evidence‑driven PySpark exercises: counts, “perfect x”, and PMI."
   ]
  },
  {
   "cell_type": "markdown",
   "id": "33dc2022",
   "metadata": {},
   "source": [
    "## 0. Setup"
   ]
  },
  {
   "cell_type": "code",
   "execution_count": 27,
   "id": "e0244b61",
   "metadata": {},
   "outputs": [
    {
     "name": "stdout",
     "output_type": "stream",
     "text": [
      "Spark version: 4.0.1\n",
      "PySpark version: 4.0.1\n",
      "Python version: 3.10.19\n",
      "Session timezone: UTC\n"
     ]
    }
   ],
   "source": [
    "import sys\n",
    "import platform\n",
    "from pyspark.sql import SparkSession\n",
    "import pyspark\n",
    "\n",
    "spark = (\n",
    "    SparkSession.builder\n",
    "    .appName(\"BDA-PracticeLab01-2\")\n",
    "    .config(\"spark.sql.session.timeZone\", \"UTC\")\n",
    "    .getOrCreate()\n",
    ")\n",
    "\n",
    "spark.sparkContext.setLogLevel(\"WARN\")\n",
    "\n",
    "print(f\"Spark version: {spark.version}\")\n",
    "print(f\"PySpark version: {pyspark.__version__}\")\n",
    "print(f\"Python version: {sys.version.split()[0]}\")\n",
    "print(f\"Session timezone: {spark.conf.get('spark.sql.session.timeZone')}\")\n"
   ]
  },
  {
   "cell_type": "code",
   "execution_count": 28,
   "id": "623ff2cd-4a65-42c7-81ff-21fa051b6e14",
   "metadata": {},
   "outputs": [
    {
     "name": "stdout",
     "output_type": "stream",
     "text": [
      "http://10.255.255.254:4042\n"
     ]
    }
   ],
   "source": [
    "print(spark.sparkContext.uiWebUrl)"
   ]
  },
  {
   "cell_type": "markdown",
   "id": "8c4a8218",
   "metadata": {},
   "source": [
    "## 1. Load data"
   ]
  },
  {
   "cell_type": "code",
   "execution_count": 14,
   "id": "0d758bb9",
   "metadata": {},
   "outputs": [
    {
     "name": "stdout",
     "output_type": "stream",
     "text": [
      "Data loaded from: /mnt/c/Users/rerel/OneDrive/Bureau/Esiee/Esiee/E5/BDA/data/tiny_shakespeare.txt\n",
      "+---------------------------------------------+\n",
      "|line                                         |\n",
      "+---------------------------------------------+\n",
      "|First Citizen:                               |\n",
      "|Before we proceed any further, hear me speak.|\n",
      "|                                             |\n",
      "|All:                                         |\n",
      "|Speak, speak.                                |\n",
      "+---------------------------------------------+\n",
      "only showing top 5 rows\n"
     ]
    }
   ],
   "source": [
    "from pathlib import Path\n",
    "import urllib.request\n",
    "\n",
    "BASE_DIR = Path.cwd()\n",
    "DATA_DIR = BASE_DIR / \"data\"\n",
    "OUTPUTS_DIR = BASE_DIR / \"outputs\"\n",
    "PROOF_DIR = BASE_DIR / \"proof\"\n",
    "for directory in (DATA_DIR, OUTPUTS_DIR, PROOF_DIR):\n",
    "    directory.mkdir(exist_ok=True)\n",
    "\n",
    "SHAKESPEARE_URL = \"https://raw.githubusercontent.com/karpathy/char-rnn/master/data/tinyshakespeare/input.txt\"\n",
    "TEXT_PATH = DATA_DIR / \"tiny_shakespeare.txt\"\n",
    "if not TEXT_PATH.exists():\n",
    "    urllib.request.urlretrieve(SHAKESPEARE_URL, TEXT_PATH)\n",
    "\n",
    "raw_rdd = spark.sparkContext.textFile(str(TEXT_PATH)).cache()\n",
    "lines_df = spark.read.text(str(TEXT_PATH)).withColumnRenamed(\"value\", \"line\").cache()\n",
    "\n",
    "# Materialize caches\n",
    "raw_rdd.count()\n",
    "lines_df.count()\n",
    "\n",
    "print(f\"Data loaded from: {TEXT_PATH}\")\n",
    "lines_df.show(5, truncate=False)\n"
   ]
  },
  {
   "cell_type": "code",
   "execution_count": 4,
   "id": "21b8d2da-5555-43ce-9ca1-89443e847920",
   "metadata": {},
   "outputs": [
    {
     "name": "stdout",
     "output_type": "stream",
     "text": [
      "Collecting pandas\n",
      "  Downloading pandas-2.3.3-cp310-cp310-manylinux_2_24_x86_64.manylinux_2_28_x86_64.whl.metadata (91 kB)\n",
      "Collecting numpy>=1.22.4 (from pandas)\n",
      "  Downloading numpy-2.2.6-cp310-cp310-manylinux_2_17_x86_64.manylinux2014_x86_64.whl.metadata (62 kB)\n",
      "Requirement already satisfied: python-dateutil>=2.8.2 in /home/rerel/miniconda3/envs/bda-env/lib/python3.10/site-packages (from pandas) (2.9.0.post0)\n",
      "Collecting pytz>=2020.1 (from pandas)\n",
      "  Downloading pytz-2025.2-py2.py3-none-any.whl.metadata (22 kB)\n",
      "Requirement already satisfied: tzdata>=2022.7 in /home/rerel/miniconda3/envs/bda-env/lib/python3.10/site-packages (from pandas) (2025.2)\n",
      "Requirement already satisfied: six>=1.5 in /home/rerel/miniconda3/envs/bda-env/lib/python3.10/site-packages (from python-dateutil>=2.8.2->pandas) (1.17.0)\n",
      "Downloading pandas-2.3.3-cp310-cp310-manylinux_2_24_x86_64.manylinux_2_28_x86_64.whl (12.8 MB)\n",
      "\u001b[2K   \u001b[90m━━━━━━━━━━━━━━━━━━━━━━━━━━━━━━━━━━━━━━━━\u001b[0m \u001b[32m12.8/12.8 MB\u001b[0m \u001b[31m24.0 MB/s\u001b[0m  \u001b[33m0:00:00\u001b[0m eta \u001b[36m0:00:01\u001b[0m\n",
      "\u001b[?25hDownloading numpy-2.2.6-cp310-cp310-manylinux_2_17_x86_64.manylinux2014_x86_64.whl (16.8 MB)\n",
      "\u001b[2K   \u001b[90m━━━━━━━━━━━━━━━━━━━━━━━━━━━━━━━━━━━━━━━━\u001b[0m \u001b[32m16.8/16.8 MB\u001b[0m \u001b[31m24.7 MB/s\u001b[0m  \u001b[33m0:00:00\u001b[0mm0:00:01\u001b[0m00:01\u001b[0m\n",
      "\u001b[?25hDownloading pytz-2025.2-py2.py3-none-any.whl (509 kB)\n",
      "Installing collected packages: pytz, numpy, pandas\n",
      "\u001b[2K   \u001b[90m━━━━━━━━━━━━━━━━━━━━━━━━━━━━━━━━━━━━━━━━\u001b[0m \u001b[32m3/3\u001b[0m [pandas]2m2/3\u001b[0m [pandas]\n",
      "\u001b[1A\u001b[2KSuccessfully installed numpy-2.2.6 pandas-2.3.3 pytz-2025.2\n"
     ]
    }
   ],
   "source": [
    "!pip install pandas"
   ]
  },
  {
   "cell_type": "markdown",
   "id": "4900360b",
   "metadata": {},
   "source": [
    "## 2. WordCount (RDD)"
   ]
  },
  {
   "cell_type": "code",
   "execution_count": 15,
   "id": "989ae541",
   "metadata": {},
   "outputs": [
    {
     "name": "stdout",
     "output_type": "stream",
     "text": [
      "Top 10 tokens (RDD):\n",
      "the: 6287\n",
      "and: 5690\n",
      "i: 5111\n",
      "to: 4934\n",
      "of: 3760\n",
      "you: 3211\n",
      "my: 3120\n",
      "a: 3018\n",
      "that: 2664\n",
      "in: 2403\n"
     ]
    }
   ],
   "source": [
    "import re\n",
    "from operator import add\n",
    "import pandas as pd\n",
    "\n",
    "token_pattern = re.compile(r\"[a-z]+\")\n",
    "\n",
    "word_counts_rdd = (\n",
    "    raw_rdd\n",
    "    .map(lambda line: token_pattern.findall(line.lower()))\n",
    "    .flatMap(lambda tokens: tokens)\n",
    "    .map(lambda token: (token, 1))\n",
    "    .reduceByKey(add)\n",
    ")\n",
    "\n",
    "top10_rdd = word_counts_rdd.takeOrdered(10, key=lambda kv: (-kv[1], kv[0]))\n",
    "\n",
    "pd.DataFrame(top10_rdd, columns=[\"token\", \"count\"]).to_csv(OUTPUTS_DIR / \"top10_rdd.csv\", index=False)\n",
    "\n",
    "print(\"Top 10 tokens (RDD):\")\n",
    "for token, count in top10_rdd:\n",
    "    print(f\"{token}: {count}\")\n"
   ]
  },
  {
   "cell_type": "markdown",
   "id": "452685e8",
   "metadata": {},
   "source": [
    "## 3. WordCount (DataFrames)"
   ]
  },
  {
   "cell_type": "code",
   "execution_count": 29,
   "id": "b4c7207a",
   "metadata": {},
   "outputs": [
    {
     "name": "stderr",
     "output_type": "stream",
     "text": [
      "                                                                                "
     ]
    },
    {
     "name": "stdout",
     "output_type": "stream",
     "text": [
      "+-----+-----+\n",
      "|token|count|\n",
      "+-----+-----+\n",
      "|the  |6287 |\n",
      "|and  |5690 |\n",
      "|i    |5111 |\n",
      "|to   |4934 |\n",
      "|of   |3760 |\n",
      "|you  |3211 |\n",
      "|my   |3120 |\n",
      "|a    |3018 |\n",
      "|that |2664 |\n",
      "|in   |2403 |\n",
      "|is   |2118 |\n",
      "|not  |2015 |\n",
      "|for  |1926 |\n",
      "|s    |1859 |\n",
      "|with |1813 |\n",
      "|it   |1773 |\n",
      "|me   |1769 |\n",
      "|be   |1710 |\n",
      "|your |1686 |\n",
      "|he   |1606 |\n",
      "+-----+-----+\n",
      "only showing top 20 rows\n"
     ]
    },
    {
     "data": {
      "text/plain": [
       "3930"
      ]
     },
     "execution_count": 29,
     "metadata": {},
     "output_type": "execute_result"
    }
   ],
   "source": [
    "from pyspark.sql import functions as F\n",
    "from contextlib import redirect_stdout\n",
    "from io import StringIO\n",
    "\n",
    "clean_tokens_df = (\n",
    "    lines_df\n",
    "    .select(\n",
    "        F.split(\n",
    "            F.regexp_replace(F.lower(\"line\"), \"[^a-z]+\", \" \"),\n",
    "            \"\\s+\"\n",
    "        ).alias(\"tokens\")\n",
    "    )\n",
    ")\n",
    "\n",
    "wordcount_df = (\n",
    "    clean_tokens_df\n",
    "    .select(F.explode(F.expr(\"filter(tokens, x -> x <> '')\")).alias(\"token\"))\n",
    "    .groupBy(\"token\")\n",
    "    .count()\n",
    "    .orderBy(F.desc(\"count\"), F.asc(\"token\"))\n",
    "    .limit(100)\n",
    ")\n",
    "\n",
    "wordcount_df.show(truncate=False)\n",
    "\n",
    "wordcount_df.toPandas().to_csv(OUTPUTS_DIR / \"top10_df.csv\", index=False)\n",
    "\n",
    "plan_buffer = StringIO()\n",
    "with redirect_stdout(plan_buffer):\n",
    "    wordcount_df.explain(\"formatted\")\n",
    "(PROOF_DIR / \"plan_df.txt\").write_text(plan_buffer.getvalue())\n"
   ]
  },
  {
   "cell_type": "markdown",
   "id": "f3fcb55b",
   "metadata": {},
   "source": [
    "## 4. 'perfect x' follower counts"
   ]
  },
  {
   "cell_type": "code",
   "execution_count": 18,
   "id": "9920127f",
   "metadata": {},
   "outputs": [
    {
     "name": "stdout",
     "output_type": "stream",
     "text": [
      "+--------+-----+\n",
      "|follower|count|\n",
      "+--------+-----+\n",
      "|love    |3    |\n",
      "+--------+-----+\n",
      "\n"
     ]
    },
    {
     "data": {
      "text/plain": [
       "3026"
      ]
     },
     "execution_count": 18,
     "metadata": {},
     "output_type": "execute_result"
    }
   ],
   "source": [
    "import re\n",
    "from contextlib import redirect_stdout\n",
    "from io import StringIO\n",
    "\n",
    "pattern_perfect = re.compile(r\"[a-z]+\")\n",
    "\n",
    "def followers(tokens):\n",
    "    result = []\n",
    "    for idx in range(len(tokens) - 1):\n",
    "        if tokens[idx] == \"perfect\":\n",
    "            follower = tokens[idx + 1]\n",
    "            if follower:\n",
    "                result.append(follower)\n",
    "    return result\n",
    "\n",
    "followers_rdd = (\n",
    "    lines_df.rdd\n",
    "    .map(lambda row: [token for token in pattern_perfect.findall(row.line.lower()) if token])\n",
    "    .flatMap(followers)\n",
    ")\n",
    "\n",
    "followers_df = followers_rdd.map(lambda token: (token,)).toDF([\"follower\"])\n",
    "\n",
    "perfect_counts_df = (\n",
    "    followers_df\n",
    "    .groupBy(\"follower\")\n",
    "    .count()\n",
    "    .filter(F.col(\"count\") > 1)\n",
    "    .orderBy(F.desc(\"count\"), F.asc(\"follower\"))\n",
    ")\n",
    "\n",
    "perfect_counts_df.show(truncate=False)\n",
    "\n",
    "perfect_counts_df.toPandas().to_csv(OUTPUTS_DIR / \"perfect_followers.csv\", index=False)\n",
    "\n",
    "plan_buffer = StringIO()\n",
    "with redirect_stdout(plan_buffer):\n",
    "    perfect_counts_df.explain(\"formatted\")\n",
    "(PROOF_DIR / \"plan_perfect.txt\").write_text(plan_buffer.getvalue())\n"
   ]
  },
  {
   "cell_type": "markdown",
   "id": "7f8d3ed3",
   "metadata": {},
   "source": [
    "## 5. PMI — pairs (RDD)"
   ]
  },
  {
   "cell_type": "code",
   "execution_count": 19,
   "id": "228da2e8",
   "metadata": {},
   "outputs": [
    {
     "name": "stderr",
     "output_type": "stream",
     "text": [
      "                                                                                "
     ]
    },
    {
     "name": "stdout",
     "output_type": "stream",
     "text": [
      "+--------+---------+------------------+-----+\n",
      "|x       |y        |pmi               |count|\n",
      "+--------+---------+------------------+-----+\n",
      "|scroop  |stephen  |3.4748101890460235|7    |\n",
      "|lartius |titus    |3.3779001760379668|7    |\n",
      "|n       |stol     |3.356710876968029 |5    |\n",
      "|shearing|sheep    |3.2598008639599723|5    |\n",
      "|bite    |thumb    |3.1384964120067664|6    |\n",
      "|bishop  |carlisle |3.0045283588566667|7    |\n",
      "|earl    |wiltshire|2.9887340916734346|7    |\n",
      "|en      |ta       |2.944530429181381 |24   |\n",
      "|drums   |trumpets |2.8795896222483663|5    |\n",
      "|bushy   |green    |2.870044304342136 |5    |\n",
      "+--------+---------+------------------+-----+\n",
      "only showing top 10 rows\n"
     ]
    },
    {
     "data": {
      "text/plain": [
       "1518"
      ]
     },
     "execution_count": 19,
     "metadata": {},
     "output_type": "execute_result"
    }
   ],
   "source": [
    "import math\n",
    "from itertools import combinations\n",
    "from io import StringIO\n",
    "from contextlib import redirect_stdout\n",
    "\n",
    "MAX_TOKENS = 40\n",
    "PMI_THRESHOLD = 5\n",
    "\n",
    "def dedupe_preserve(tokens):\n",
    "    seen = set()\n",
    "    ordered = []\n",
    "    for token in tokens:\n",
    "        if token not in seen:\n",
    "            seen.add(token)\n",
    "            ordered.append(token)\n",
    "    return ordered\n",
    "\n",
    "pmi_token_pattern = re.compile(r\"[a-z]+\")\n",
    "\n",
    "tokens_per_line = (\n",
    "    lines_df.rdd\n",
    "    .map(lambda row: [t for t in pmi_token_pattern.findall(row.line.lower())][:MAX_TOKENS])\n",
    "    .map(lambda tokens: [t for t in tokens if t])\n",
    "    .map(dedupe_preserve)\n",
    "    .filter(lambda tokens: len(tokens) > 1)\n",
    "    .cache()\n",
    ")\n",
    "\n",
    "num_docs = tokens_per_line.count()\n",
    "\n",
    "from operator import add\n",
    "\n",
    "marginal_counts = (\n",
    "    tokens_per_line\n",
    "    .flatMap(lambda tokens: ((token, 1) for token in tokens))\n",
    "    .reduceByKey(add)\n",
    ")\n",
    "\n",
    "marginal_dict = dict(marginal_counts.collect())\n",
    "marginal_bc = spark.sparkContext.broadcast(marginal_dict)\n",
    "\n",
    "pair_counts = (\n",
    "    tokens_per_line\n",
    "    .flatMap(lambda tokens: [((min(a, b), max(a, b)), 1) for a, b in combinations(tokens, 2)])\n",
    "    .reduceByKey(add)\n",
    "    .filter(lambda kv: kv[1] >= PMI_THRESHOLD)\n",
    ")\n",
    "\n",
    "def compute_pair_pmi(kv):\n",
    "    (x, y), co_count = kv\n",
    "    count_x = marginal_bc.value.get(x)\n",
    "    count_y = marginal_bc.value.get(y)\n",
    "    if not count_x or not count_y:\n",
    "        return None\n",
    "    pmi = math.log10((co_count * num_docs) / (count_x * count_y))\n",
    "    return (x, y, float(pmi), int(co_count))\n",
    "\n",
    "pmi_pairs_rdd = pair_counts.map(compute_pair_pmi).filter(lambda row: row is not None)\n",
    "\n",
    "pairs_df = spark.createDataFrame(pmi_pairs_rdd, schema=[\"x\", \"y\", \"pmi\", \"count\"]).orderBy(F.desc(\"pmi\"))\n",
    "\n",
    "pairs_df.show(10, truncate=False)\n",
    "\n",
    "pairs_df.toPandas().to_csv(OUTPUTS_DIR / \"pmi_pairs_sample.csv\", index=False)\n",
    "\n",
    "plan_buffer = StringIO()\n",
    "with redirect_stdout(plan_buffer):\n",
    "    pairs_df.explain(\"formatted\")\n",
    "(PROOF_DIR / \"plan_pmi_pairs.txt\").write_text(plan_buffer.getvalue())\n"
   ]
  },
  {
   "cell_type": "markdown",
   "id": "d2d6b808",
   "metadata": {},
   "source": [
    "## 6. PMI — stripes (RDD)"
   ]
  },
  {
   "cell_type": "code",
   "execution_count": 20,
   "id": "f108fbb8",
   "metadata": {},
   "outputs": [
    {
     "name": "stderr",
     "output_type": "stream",
     "text": [
      "                                                                                "
     ]
    },
    {
     "name": "stdout",
     "output_type": "stream",
     "text": [
      "+--------+--------+------------------+-----+\n",
      "|x       |y       |pmi               |count|\n",
      "+--------+--------+------------------+-----+\n",
      "|stephen |scroop  |3.4748101890460235|7    |\n",
      "|scroop  |stephen |3.4748101890460235|7    |\n",
      "|titus   |lartius |3.3779001760379668|7    |\n",
      "|lartius |titus   |3.3779001760379668|7    |\n",
      "|n       |stol    |3.356710876968029 |5    |\n",
      "|stol    |n       |3.356710876968029 |5    |\n",
      "|sheep   |shearing|3.2598008639599723|5    |\n",
      "|shearing|sheep   |3.2598008639599723|5    |\n",
      "|thumb   |bite    |3.1384964120067664|6    |\n",
      "|bite    |thumb   |3.1384964120067664|6    |\n",
      "+--------+--------+------------------+-----+\n",
      "only showing top 10 rows\n"
     ]
    },
    {
     "data": {
      "text/plain": [
       "1515"
      ]
     },
     "execution_count": 20,
     "metadata": {},
     "output_type": "execute_result"
    }
   ],
   "source": [
    "from collections import Counter\n",
    "from contextlib import redirect_stdout\n",
    "from io import StringIO\n",
    "\n",
    "\n",
    "def stripe_builder(tokens):\n",
    "    for x in tokens:\n",
    "        counter = Counter()\n",
    "        for y in tokens:\n",
    "            if y != x:\n",
    "                counter[y] += 1\n",
    "        if counter:\n",
    "            yield (x, counter)\n",
    "\n",
    "def merge_counters(c1, c2):\n",
    "    c1.update(c2)\n",
    "    return c1\n",
    "\n",
    "def stripe_to_rows(item):\n",
    "    x, counter = item\n",
    "    count_x = marginal_bc.value.get(x)\n",
    "    if not count_x:\n",
    "        return []\n",
    "    rows = []\n",
    "    for y, co_count in counter.items():\n",
    "        if co_count >= PMI_THRESHOLD:\n",
    "            count_y = marginal_bc.value.get(y)\n",
    "            if not count_y:\n",
    "                continue\n",
    "            pmi = math.log10((co_count * num_docs) / (count_x * count_y))\n",
    "            rows.append((x, y, float(pmi), int(co_count)))\n",
    "    return rows\n",
    "\n",
    "stripes_counts = (\n",
    "    tokens_per_line\n",
    "    .flatMap(stripe_builder)\n",
    "    .reduceByKey(merge_counters)\n",
    ")\n",
    "\n",
    "pmi_stripes_rdd = stripes_counts.flatMap(stripe_to_rows)\n",
    "\n",
    "stripes_df = spark.createDataFrame(pmi_stripes_rdd, schema=[\"x\", \"y\", \"pmi\", \"count\"]).orderBy(F.desc(\"pmi\"))\n",
    "\n",
    "stripes_df.show(10, truncate=False)\n",
    "\n",
    "stripes_df.toPandas().to_csv(OUTPUTS_DIR / \"pmi_stripes_sample.csv\", index=False)\n",
    "\n",
    "plan_buffer = StringIO()\n",
    "with redirect_stdout(plan_buffer):\n",
    "    stripes_df.explain(\"formatted\")\n",
    "(PROOF_DIR / \"plan_pmi_stripes.txt\").write_text(plan_buffer.getvalue())\n"
   ]
  },
  {
   "cell_type": "markdown",
   "id": "fa0179da",
   "metadata": {},
   "source": [
    "## 7. Spark UI evidence\n",
    "Open http://localhost:4040 and capture Files Read, Input Size, Shuffle Read/Write."
   ]
  },
  {
   "cell_type": "markdown",
   "id": "006a91ab",
   "metadata": {},
   "source": [
    "## 8. Environment and configs"
   ]
  },
  {
   "cell_type": "code",
   "execution_count": 21,
   "id": "45f184ff",
   "metadata": {},
   "outputs": [
    {
     "name": "stdout",
     "output_type": "stream",
     "text": [
      "Java: openjdk version \"21.0.6\" 2025-01-21\n",
      "Spark configuration (selected):\n",
      " - spark.app.id = local-1761204299112\n",
      " - spark.app.name = BDA-PracticeLab01\n",
      " - spark.app.startTime = 1761204297795\n",
      " - spark.app.submitTime = 1761204297532\n",
      " - spark.driver.extraJavaOptions = -Djava.net.preferIPv6Addresses=false -XX:+IgnoreUnrecognizedVMOptions --add-modules=jdk.incubator.vector --add-opens=java.base/java.lang=ALL-UNNAMED --add-opens=java.base/java.lang.invoke=ALL-UNNAMED --add-opens=java.base/java.lang.reflect=ALL-UNNAMED --add-opens=java.base/java.io=ALL-UNNAMED --add-opens=java.base/java.net=ALL-UNNAMED --add-opens=java.base/java.nio=ALL-UNNAMED --add-opens=java.base/java.util=ALL-UNNAMED --add-opens=java.base/java.util.concurrent=ALL-UNNAMED --add-opens=java.base/java.util.concurrent.atomic=ALL-UNNAMED --add-opens=java.base/jdk.internal.ref=ALL-UNNAMED --add-opens=java.base/sun.nio.ch=ALL-UNNAMED --add-opens=java.base/sun.nio.cs=ALL-UNNAMED --add-opens=java.base/sun.security.action=ALL-UNNAMED --add-opens=java.base/sun.util.calendar=ALL-UNNAMED --add-opens=java.security.jgss/sun.security.krb5=ALL-UNNAMED -Djdk.reflect.useDirectMethodHandle=false -Dio.netty.tryReflectionSetAccessible=true\n",
      " - spark.driver.host = 10.255.255.254\n",
      " - spark.driver.port = 46457\n",
      " - spark.executor.extraJavaOptions = -Djava.net.preferIPv6Addresses=false -XX:+IgnoreUnrecognizedVMOptions --add-modules=jdk.incubator.vector --add-opens=java.base/java.lang=ALL-UNNAMED --add-opens=java.base/java.lang.invoke=ALL-UNNAMED --add-opens=java.base/java.lang.reflect=ALL-UNNAMED --add-opens=java.base/java.io=ALL-UNNAMED --add-opens=java.base/java.net=ALL-UNNAMED --add-opens=java.base/java.nio=ALL-UNNAMED --add-opens=java.base/java.util=ALL-UNNAMED --add-opens=java.base/java.util.concurrent=ALL-UNNAMED --add-opens=java.base/java.util.concurrent.atomic=ALL-UNNAMED --add-opens=java.base/jdk.internal.ref=ALL-UNNAMED --add-opens=java.base/sun.nio.ch=ALL-UNNAMED --add-opens=java.base/sun.nio.cs=ALL-UNNAMED --add-opens=java.base/sun.security.action=ALL-UNNAMED --add-opens=java.base/sun.util.calendar=ALL-UNNAMED --add-opens=java.security.jgss/sun.security.krb5=ALL-UNNAMED -Djdk.reflect.useDirectMethodHandle=false -Dio.netty.tryReflectionSetAccessible=true\n",
      " - spark.executor.id = driver\n",
      " - spark.hadoop.fs.s3a.vectored.read.max.merged.size = 2M\n",
      " - spark.hadoop.fs.s3a.vectored.read.min.seek.size = 128K\n",
      " - spark.master = local[*]\n",
      " - spark.rdd.compress = True\n",
      " - spark.serializer.objectStreamReset = 100\n",
      " - spark.sql.artifact.isolation.enabled = false\n",
      " - spark.sql.session.timeZone = UTC\n",
      " - spark.sql.warehouse.dir = file:/mnt/c/Users/rerel/OneDrive/Bureau/Esiee/Esiee/E5/BDA/spark-warehouse\n",
      " - spark.submit.deployMode = client\n",
      " - spark.submit.pyFiles = \n",
      " - spark.ui.showConsoleProgress = true\n",
      "Environment details saved to /mnt/c/Users/rerel/OneDrive/Bureau/Esiee/Esiee/E5/BDA/ENV.md\n"
     ]
    }
   ],
   "source": [
    "import json\n",
    "import subprocess\n",
    "\n",
    "def get_java_version():\n",
    "    try:\n",
    "        output = subprocess.check_output([\"java\", \"-version\"], stderr=subprocess.STDOUT)\n",
    "        return output.decode(\"utf-8\").strip().splitlines()[0]\n",
    "    except Exception as exc:\n",
    "        return f\"Unavailable ({exc})\"\n",
    "\n",
    "java_output = get_java_version()\n",
    "print(f\"Java: {java_output}\")\n",
    "\n",
    "print(\"Spark configuration (selected):\")\n",
    "conf_items = sorted(spark.sparkContext.getConf().getAll())\n",
    "for key, value in conf_items:\n",
    "    print(f\" - {key} = {value}\")\n",
    "\n",
    "env_summary = {\n",
    "    \"python\": sys.version,\n",
    "    \"spark\": spark.version,\n",
    "    \"pyspark\": pyspark.__version__,\n",
    "    \"java\": java_output,\n",
    "    \"os\": platform.platform(),\n",
    "    \"spark_conf\": {k: v for k, v in conf_items if k.startswith(\"spark.\")}\n",
    "}\n",
    "\n",
    "env_lines = [\n",
    "    \"# Environment Summary\",\n",
    "    \"\",\n",
    "    f\"- Python: {sys.version.split()[0]}\",\n",
    "    f\"- Spark: {spark.version}\",\n",
    "    f\"- PySpark: {pyspark.__version__}\",\n",
    "    f\"- Java: {java_output}\",\n",
    "    f\"- OS: {platform.platform()}\",\n",
    "    \"\",\n",
    "    \"## Spark Configuration\"\n",
    "]\n",
    "\n",
    "env_lines.extend(f\"- {k} = {v}\" for k, v in env_summary[\"spark_conf\"].items())\n",
    "\n",
    "ENV_PATH = Path(\"ENV.md\")\n",
    "ENV_PATH.write_text(\"\\n\".join(env_lines) + \"\\n\")\n",
    "\n",
    "print(f\"Environment details saved to {ENV_PATH.resolve()}\")\n"
   ]
  },
  {
   "cell_type": "code",
   "execution_count": 22,
   "id": "3a38cba2-2952-473e-a0ac-23a61a6cce7b",
   "metadata": {
    "scrolled": true
   },
   "outputs": [
    {
     "data": {
      "text/plain": [
       "[]"
      ]
     },
     "execution_count": 22,
     "metadata": {},
     "output_type": "execute_result"
    }
   ],
   "source": [
    "spark.catalog.listTables()"
   ]
  },
  {
   "cell_type": "code",
   "execution_count": 24,
   "id": "a2c3da27-fac0-4887-b824-5646b1571937",
   "metadata": {},
   "outputs": [
    {
     "name": "stdout",
     "output_type": "stream",
     "text": [
      "http://10.255.255.254:4042\n"
     ]
    }
   ],
   "source": [
    "print(spark.sparkContext.uiWebUrl)"
   ]
  },
  {
   "cell_type": "code",
   "execution_count": null,
   "id": "e9c46aa1-3c15-4e75-9b82-7493ed5db771",
   "metadata": {},
   "outputs": [],
   "source": []
  }
 ],
 "metadata": {
  "kernelspec": {
   "display_name": "Python 3 (ipykernel)",
   "language": "python",
   "name": "python3"
  },
  "language_info": {
   "codemirror_mode": {
    "name": "ipython",
    "version": 3
   },
   "file_extension": ".py",
   "mimetype": "text/x-python",
   "name": "python",
   "nbconvert_exporter": "python",
   "pygments_lexer": "ipython3",
   "version": "3.10.19"
  }
 },
 "nbformat": 4,
 "nbformat_minor": 5
}
