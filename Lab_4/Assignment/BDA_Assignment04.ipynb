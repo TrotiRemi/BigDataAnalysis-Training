{
 "cells": [
  {
   "cell_type": "markdown",
   "id": "30acf193",
   "metadata": {},
   "source": [
    "# BDA Assignment — Relational (TPC‑H, RDD‑only) + Streaming\n",
    "\n",
    "> Author : Badr TAJINI - Big Data Analytics - ESIEE 2025-2026\n",
    "\n",
    "**Chapter 7 :** Analyzing Relational Data (TPC‑H subset)  \n",
    "**Chapter 8 :** Real‑Time Analytics (NYC Taxi)\n",
    "\n",
    "**Tools :** Spark or PySpark.   \n",
    "**Advice:** Keep evidence and reproducibility."
   ]
  },
  {
   "cell_type": "markdown",
   "id": "b6438452",
   "metadata": {},
   "source": [
    "## 0. Bootstrap"
   ]
  },
  {
   "cell_type": "code",
   "execution_count": null,
   "id": "3d503455",
   "metadata": {},
   "outputs": [],
   "source": [
    "# write some code here\n",
    "# - create SparkSession('BDA-Assignment-Relational-Streaming') with UTC timezone\n",
    "# - print Spark/PySpark/Python versions\n",
    "# - set spark.sql.shuffle.partitions for local runs\n"
   ]
  },
  {
   "cell_type": "markdown",
   "id": "0483b961",
   "metadata": {},
   "source": [
    "## 1. Data Layout & Quick Checks"
   ]
  },
  {
   "cell_type": "code",
   "execution_count": null,
   "id": "0a159a3c",
   "metadata": {},
   "outputs": [],
   "source": [
    "# write some code here\n",
    "# - assert paths for:\n",
    "#   data/tpch/TPC-H-0.1-TXT/  and  data/tpch/TPC-H-0.1-PARQUET/\n",
    "#   data/taxi-data/\n",
    "# - small sanity reads: count lines/files; print sample records\n"
   ]
  },
  {
   "cell_type": "markdown",
   "id": "1fd917a4",
   "metadata": {},
   "source": [
    "## 2. Parsers and Helpers"
   ]
  },
  {
   "cell_type": "code",
   "execution_count": null,
   "id": "3ce48ba4",
   "metadata": {},
   "outputs": [],
   "source": [
    "# write some code here\n",
    "# - text parsers per TPC-H table (split('|') -> typed tuples)\n",
    "# - parquet loaders using spark.read.parquet(...).rdd\n",
    "# - broadcast helper for small dims (part, supplier, customer, nation)\n",
    "# - utilities: save_tuples(path, iterator); month_trunc('YYYY-MM-DD')\n"
   ]
  },
  {
   "cell_type": "markdown",
   "id": "8f5c21bf",
   "metadata": {},
   "source": [
    "## Part A — Relational (RDD‑only)"
   ]
  },
  {
   "cell_type": "markdown",
   "id": "343a47e9",
   "metadata": {},
   "source": [
    "### A1 — Q1: shipped items on DATE (print ANSWER=\\d+)"
   ]
  },
  {
   "cell_type": "code",
   "execution_count": null,
   "id": "de86dcc4",
   "metadata": {},
   "outputs": [],
   "source": [
    "# write some code here\n",
    "# args: --input, --date, --text/--parquet\n",
    "# pipeline (text): read lineitem -> filter by l_shipdate -> count -> print('ANSWER=', n)\n",
    "# parquet path variant: spark.read.parquet(...).rdd\n"
   ]
  },
  {
   "cell_type": "markdown",
   "id": "4e28e5ce",
   "metadata": {},
   "source": [
    "### A2 — Q2: clerks by order key (reduce‑side join via cogroup)"
   ]
  },
  {
   "cell_type": "code",
   "execution_count": null,
   "id": "004259bc",
   "metadata": {},
   "outputs": [],
   "source": [
    "# write some code here\n",
    "# build (orderkey, clerk) from orders and (orderkey, 1) from lineitem(date)\n",
    "# cogroup -> expand -> sortByKey -> take(20)\n"
   ]
  },
  {
   "cell_type": "markdown",
   "id": "f7d69eda",
   "metadata": {},
   "source": [
    "### A3 — Q3: part & supplier names (broadcast hash join)"
   ]
  },
  {
   "cell_type": "code",
   "execution_count": null,
   "id": "b1fc6e46",
   "metadata": {},
   "outputs": [],
   "source": [
    "# write some code here\n",
    "# broadcast maps for part and supplier\n",
    "# map over lineitem(date) -> join in-map -> take(20)\n"
   ]
  },
  {
   "cell_type": "markdown",
   "id": "65b24354",
   "metadata": {},
   "source": [
    "### A4 — Q4: shipped items by nation (mixed joins)"
   ]
  },
  {
   "cell_type": "code",
   "execution_count": null,
   "id": "caf254d4",
   "metadata": {},
   "outputs": [],
   "source": [
    "# write some code here\n",
    "# reduce-side for (lineitem ⨝ orders); broadcast for (customer, nation)\n",
    "# aggregate to (n_nationkey, n_name, count)\n"
   ]
  },
  {
   "cell_type": "markdown",
   "id": "985a6688",
   "metadata": {},
   "source": [
    "### A5 — Q5: monthly US vs CANADA volumes"
   ]
  },
  {
   "cell_type": "code",
   "execution_count": null,
   "id": "91c2e744",
   "metadata": {},
   "outputs": [],
   "source": [
    "# write some code here\n",
    "# compute (nationkey, n_name, yyyy-mm, count) across full data\n",
    "# write CSV for plotting; keep timings for TXT vs PARQUET\n"
   ]
  },
  {
   "cell_type": "markdown",
   "id": "f99324dd",
   "metadata": {},
   "source": [
    "### A6 — Q6: Pricing Summary (filtered by DATE)"
   ]
  },
  {
   "cell_type": "code",
   "execution_count": null,
   "id": "9af9d45c",
   "metadata": {},
   "outputs": [],
   "source": [
    "# write some code here\n",
    "# implement sums/averages over lineitem for given date\n",
    "# emit tuples per (l_returnflag, l_linestatus, ...)\n"
   ]
  },
  {
   "cell_type": "markdown",
   "id": "1cf169bb",
   "metadata": {},
   "source": [
    "### A7 — Q7: Shipping Priority Top‑10"
   ]
  },
  {
   "cell_type": "code",
   "execution_count": null,
   "id": "cf20d346",
   "metadata": {},
   "outputs": [],
   "source": [
    "# write some code here\n",
    "# join customer, orders, lineitem with appropriate filters and groupBy\n",
    "# compute revenue and order by desc; limit 10\n"
   ]
  },
  {
   "cell_type": "markdown",
   "id": "3b6f374e",
   "metadata": {},
   "source": [
    "## Evidence for Part A"
   ]
  },
  {
   "cell_type": "code",
   "execution_count": null,
   "id": "7a791ee8",
   "metadata": {},
   "outputs": [],
   "source": [
    "# write some code here\n",
    "# capture DF explain('formatted') when using parquet readers\n",
    "# collect timings and notes TXT vs PARQUET; broadcast vs reduce-side\n"
   ]
  },
  {
   "cell_type": "markdown",
   "id": "44a26caa",
   "metadata": {},
   "source": [
    "## Part B — Streaming (Structured Streaming)"
   ]
  },
  {
   "cell_type": "markdown",
   "id": "1d780fc9",
   "metadata": {},
   "source": [
    "### B1 — HourlyTripCount"
   ]
  },
  {
   "cell_type": "code",
   "execution_count": null,
   "id": "4a15bc73",
   "metadata": {},
   "outputs": [],
   "source": [
    "# write some code here\n",
    "# readStream from data/taxi-data (file source with schema)\n",
    "# withWatermark if needed; window='1 hour'; count\n",
    "# writeStream with checkpoint dir and output dir\n"
   ]
  },
  {
   "cell_type": "markdown",
   "id": "a1cf9117",
   "metadata": {},
   "source": [
    "### B2 — RegionEventCount (goldman, citigroup)"
   ]
  },
  {
   "cell_type": "code",
   "execution_count": null,
   "id": "fac4e651",
   "metadata": {},
   "outputs": [],
   "source": [
    "# write some code here\n",
    "# bounding boxes on dropoff lon/lat; label key 'goldman' or 'citigroup'\n",
    "# window='1 hour'; counts per key; writeStream append\n"
   ]
  },
  {
   "cell_type": "markdown",
   "id": "654a50f7",
   "metadata": {},
   "source": [
    "### B3 — TrendingArrivals (10-minute windows + state)"
   ]
  },
  {
   "cell_type": "code",
   "execution_count": null,
   "id": "c0b30249",
   "metadata": {},
   "outputs": [],
   "source": [
    "# write some code here\n",
    "# 10-minute windows; compare current vs previous window with state\n",
    "# trigger alert print to stdout; persist per-batch status files\n"
   ]
  },
  {
   "cell_type": "markdown",
   "id": "cd87a8da",
   "metadata": {},
   "source": [
    "## Evidence for Part B"
   ]
  },
  {
   "cell_type": "code",
   "execution_count": null,
   "id": "dcfe6980",
   "metadata": {},
   "outputs": [],
   "source": [
    "# write some code here\n",
    "# collect driver logs; list output dirs; include Spark UI screenshots\n"
   ]
  },
  {
   "cell_type": "markdown",
   "id": "b1c170cb",
   "metadata": {},
   "source": [
    "## Reproducibility Checklist"
   ]
  },
  {
   "cell_type": "markdown",
   "id": "19ce342e",
   "metadata": {},
   "source": [
    "- ENV.md present with versions and configs  \n",
    "- Exact spark-submit commands recorded  \n",
    "- Plans saved for any DF stage used  \n",
    "- UI screenshots for representative stages  \n",
    "- All outputs in deterministic locations"
   ]
  }
 ],
 "metadata": {
  "language_info": {
   "name": "python"
  }
 },
 "nbformat": 4,
 "nbformat_minor": 5
}
