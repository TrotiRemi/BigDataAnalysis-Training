{
 "cells": [
  {
   "cell_type": "markdown",
   "id": "bc33de80",
   "metadata": {},
   "source": [
    "# Big Data Analytics — Lab 0 Starter (v2)\n",
    "> Author : Badr TAJINI - Big Data Analytics - ESIEE 2025-2026\n",
    "\n",
    "Verify your PySpark setup end‑to‑end and capture evidence."
   ]
  },
  {
   "cell_type": "markdown",
   "id": "56250b63",
   "metadata": {},
   "source": [
    "## 1. Environment bootstrap"
   ]
  },
  {
   "cell_type": "code",
   "execution_count": 1,
   "id": "138bf034",
   "metadata": {},
   "outputs": [
    {
     "name": "stdout",
     "output_type": "stream",
     "text": [
      "Run timestamp (UTC): 2025-10-23T07:40:56.816983\n"
     ]
    },
    {
     "name": "stderr",
     "output_type": "stream",
     "text": [
      "WARNING: Using incubator modules: jdk.incubator.vector\n",
      "Using Spark's default log4j profile: org/apache/spark/log4j2-defaults.properties\n",
      "25/10/23 09:41:01 WARN Utils: Your hostname, Remi, resolves to a loopback address: 127.0.1.1; using 10.255.255.254 instead (on interface lo)\n",
      "25/10/23 09:41:01 WARN Utils: Set SPARK_LOCAL_IP if you need to bind to another address\n",
      "Using Spark's default log4j profile: org/apache/spark/log4j2-defaults.properties\n",
      "Setting default log level to \"WARN\".\n",
      "To adjust logging level use sc.setLogLevel(newLevel). For SparkR, use setLogLevel(newLevel).\n",
      "25/10/23 09:41:03 WARN NativeCodeLoader: Unable to load native-hadoop library for your platform... using builtin-java classes where applicable\n",
      "25/10/23 09:41:03 WARN Utils: Service 'SparkUI' could not bind on port 4040. Attempting port 4041.\n",
      "25/10/23 09:41:03 WARN Utils: Service 'SparkUI' could not bind on port 4041. Attempting port 4042.\n",
      "25/10/23 09:41:03 WARN Utils: Service 'SparkUI' could not bind on port 4042. Attempting port 4043.\n"
     ]
    },
    {
     "name": "stdout",
     "output_type": "stream",
     "text": [
      "Spark: 4.0.1\n",
      "PySpark: 4.0.1\n",
      "Python: 3.10.19 | Linux-6.6.87.2-microsoft-standard-WSL2-x86_64-with-glibc2.39\n",
      "SPARK_HOME: <pip-only>\n"
     ]
    }
   ],
   "source": [
    "from datetime import datetime\n",
    "print(\"Run timestamp (UTC):\", datetime.utcnow().isoformat())\n",
    "\n",
    "try:\n",
    "    from pyspark.sql import SparkSession\n",
    "    import pyspark, sys, platform, os\n",
    "    spark = (\n",
    "        SparkSession.builder\n",
    "        .appName(\"BDA-Lab0\")\n",
    "        .config(\"spark.sql.session.timeZone\",\"UTC\")\n",
    "        .config(\"spark.sql.shuffle.partitions\",\"8\")\n",
    "        .getOrCreate()\n",
    "    )\n",
    "    print(\"Spark:\", spark.version)\n",
    "    print(\"PySpark:\", pyspark.__version__)\n",
    "    print(\"Python:\", sys.version.split()[0], \"|\", platform.platform())\n",
    "    print(\"SPARK_HOME:\", os.environ.get(\"SPARK_HOME\", \"<pip-only>\"))\n",
    "except Exception as e:\n",
    "    print(\"Spark init failed:\", e)\n",
    "    spark = None\n"
   ]
  },
  {
   "cell_type": "code",
   "execution_count": 3,
   "id": "c5be273b-9d2d-4697-96dd-c78dd5557ab3",
   "metadata": {},
   "outputs": [
    {
     "data": {
      "text/plain": [
       "4"
      ]
     },
     "execution_count": 3,
     "metadata": {},
     "output_type": "execute_result"
    }
   ],
   "source": [
    "df.createOrReplaceTempView(\"perfect_followers\")\n",
    "df.cache()\n",
    "df.count()   # ⚠️ important : déclenche le cache"
   ]
  },
  {
   "cell_type": "markdown",
   "id": "57410cae",
   "metadata": {},
   "source": [
    "## 2. DataFrame sanity check"
   ]
  },
  {
   "cell_type": "code",
   "execution_count": 2,
   "id": "02717b86",
   "metadata": {},
   "outputs": [
    {
     "name": "stderr",
     "output_type": "stream",
     "text": [
      "                                                                                "
     ]
    },
    {
     "name": "stdout",
     "output_type": "stream",
     "text": [
      "+---+---+\n",
      "|key|val|\n",
      "+---+---+\n",
      "|  a|  1|\n",
      "|  b|  2|\n",
      "|  c|  3|\n",
      "|  a|  2|\n",
      "+---+---+\n",
      "\n"
     ]
    },
    {
     "name": "stderr",
     "output_type": "stream",
     "text": [
      "[Stage 3:>                                                        (0 + 20) / 20]"
     ]
    },
    {
     "name": "stdout",
     "output_type": "stream",
     "text": [
      "+---+-----+\n",
      "|key|count|\n",
      "+---+-----+\n",
      "|  a|    2|\n",
      "|  b|    1|\n",
      "|  c|    1|\n",
      "+---+-----+\n",
      "\n",
      "\n",
      "--- formatted plan ---\n",
      "== Physical Plan ==\n",
      "AdaptiveSparkPlan (6)\n",
      "+- HashAggregate (5)\n",
      "   +- Exchange (4)\n",
      "      +- HashAggregate (3)\n",
      "         +- Project (2)\n",
      "            +- Scan ExistingRDD (1)\n",
      "\n",
      "\n",
      "(1) Scan ExistingRDD\n",
      "Output [2]: [key#0, val#1L]\n",
      "Arguments: [key#0, val#1L], MapPartitionsRDD[4] at applySchemaToPythonRDD at NativeMethodAccessorImpl.java:0, ExistingRDD, UnknownPartitioning(0)\n",
      "\n",
      "(2) Project\n",
      "Output [1]: [key#0]\n",
      "Input [2]: [key#0, val#1L]\n",
      "\n",
      "(3) HashAggregate\n",
      "Input [1]: [key#0]\n",
      "Keys [1]: [key#0]\n",
      "Functions [1]: [partial_count(1)]\n",
      "Aggregate Attributes [1]: [count#26L]\n",
      "Results [2]: [key#0, count#27L]\n",
      "\n",
      "(4) Exchange\n",
      "Input [2]: [key#0, count#27L]\n",
      "Arguments: hashpartitioning(key#0, 8), ENSURE_REQUIREMENTS, [plan_id=71]\n",
      "\n",
      "(5) HashAggregate\n",
      "Input [2]: [key#0, count#27L]\n",
      "Keys [1]: [key#0]\n",
      "Functions [1]: [count(1)]\n",
      "Aggregate Attributes [1]: [count(1)#25L]\n",
      "Results [2]: [key#0, count(1)#25L AS count#22L]\n",
      "\n",
      "(6) AdaptiveSparkPlan\n",
      "Output [2]: [key#0, count#22L]\n",
      "Arguments: isFinalPlan=false\n",
      "\n",
      "\n"
     ]
    },
    {
     "name": "stderr",
     "output_type": "stream",
     "text": [
      "                                                                                "
     ]
    }
   ],
   "source": [
    "if spark is None:\n",
    "    raise SystemExit(\"Spark not available. Fix setup and re-run Section 1.\")\n",
    "\n",
    "data = [(\"a\",1),(\"b\",2),(\"c\",3),(\"a\",2)]\n",
    "df = spark.createDataFrame(data, [\"key\",\"val\"])\n",
    "df.show()\n",
    "df.groupBy(\"key\").count().show()\n",
    "\n",
    "print(\"\\n--- formatted plan ---\")\n",
    "df.groupBy(\"key\").count().explain(mode=\"formatted\")\n"
   ]
  },
  {
   "cell_type": "markdown",
   "id": "a6f99890",
   "metadata": {},
   "source": [
    "## 3. Spark UI metrics (screenshot)\n",
    "Open http://localhost:4040 after running an action and record Files Read, Input Size, and Shuffle Read/Write."
   ]
  },
  {
   "cell_type": "markdown",
   "id": "9bcb102e",
   "metadata": {},
   "source": [
    "## 4. Optional: RDD quick check (for Hadoop+Spark profile)"
   ]
  },
  {
   "cell_type": "code",
   "execution_count": null,
   "id": "4f5f28c5",
   "metadata": {},
   "outputs": [],
   "source": [
    "rdd = spark.sparkContext.parallelize([1,2,3,4,5])\n",
    "print(rdd.map(lambda x: x*2).collect())\n"
   ]
  },
  {
   "cell_type": "markdown",
   "id": "420fd61d",
   "metadata": {},
   "source": [
    "## 5. Save evidence"
   ]
  },
  {
   "cell_type": "code",
   "execution_count": null,
   "id": "00dcc99e",
   "metadata": {},
   "outputs": [],
   "source": [
    "from io import StringIO\n",
    "import sys\n",
    "buf = StringIO()\n",
    "old_stdout = sys.stdout\n",
    "try:\n",
    "    sys.stdout = buf\n",
    "    spark.range(10).groupByExpr(\"id % 2\").count().explain(mode=\"formatted\")\n",
    "finally:\n",
    "    sys.stdout = old_stdout\n",
    "\n",
    "from pathlib import Path\n",
    "Path(\"lab0_plan.txt\").write_text(buf.getvalue(), encoding=\"utf-8\")\n",
    "print(\"Saved lab0_plan.txt\")\n"
   ]
  },
  {
   "cell_type": "code",
   "execution_count": 8,
   "id": "9702d169-18c5-4643-bf8d-cb03be129d92",
   "metadata": {},
   "outputs": [
    {
     "name": "stdout",
     "output_type": "stream",
     "text": [
      "BDA_Lab0_Starter_v2.ipynb\n"
     ]
    }
   ],
   "source": [
    "!ls"
   ]
  },
  {
   "cell_type": "code",
   "execution_count": 11,
   "id": "cfc7fac9-c6ad-4480-aad2-a56ff085db82",
   "metadata": {},
   "outputs": [
    {
     "name": "stderr",
     "output_type": "stream",
     "text": [
      "                                                                                "
     ]
    },
    {
     "name": "stdout",
     "output_type": "stream",
     "text": [
      "✅ 40000 lignes chargées et mises en cache !\n",
      "+---------------------------------------------+\n",
      "|value                                        |\n",
      "+---------------------------------------------+\n",
      "|First Citizen:                               |\n",
      "|Before we proceed any further, hear me speak.|\n",
      "|                                             |\n",
      "|All:                                         |\n",
      "|Speak, speak.                                |\n",
      "+---------------------------------------------+\n",
      "only showing top 5 rows\n"
     ]
    }
   ],
   "source": [
    "from pyspark.sql import SparkSession\n",
    "\n",
    "spark = SparkSession.builder.appName(\"BDA-A01\").getOrCreate()\n",
    "\n",
    "# 💾 Chemin absolu vers ton fichier\n",
    "file_path = \"tiny_shakespeare.txt\"\n",
    "\n",
    "\n",
    "df = spark.read.text(file_path)\n",
    "\n",
    "df.createOrReplaceTempView(\"shakespeare\")\n",
    "df.cache()\n",
    "print(f\"✅ {df.count()} lignes chargées et mises en cache !\")\n",
    "\n",
    "df.show(5, truncate=False)\n"
   ]
  },
  {
   "cell_type": "code",
   "execution_count": 12,
   "id": "f026638a-d1ac-40bd-8f1b-3200b3f6f4a3",
   "metadata": {},
   "outputs": [
    {
     "name": "stdout",
     "output_type": "stream",
     "text": [
      "http://10.255.255.254:4043\n"
     ]
    }
   ],
   "source": [
    "print(spark.sparkContext.uiWebUrl)\n"
   ]
  },
  {
   "cell_type": "code",
   "execution_count": 13,
   "id": "2f261a47-8b80-4776-ab8f-23dfd17156d2",
   "metadata": {},
   "outputs": [
    {
     "data": {
      "text/plain": [
       "DataFrame[value: string]"
      ]
     },
     "execution_count": 13,
     "metadata": {},
     "output_type": "execute_result"
    }
   ],
   "source": [
    "spark.sql(\"SELECT * FROM shakespeare LIMIT 5\")"
   ]
  },
  {
   "cell_type": "code",
   "execution_count": null,
   "id": "4e156e91-2c17-40dd-a2cb-c4fe92e055ab",
   "metadata": {},
   "outputs": [],
   "source": []
  }
 ],
 "metadata": {
  "kernelspec": {
   "display_name": "Python 3 (ipykernel)",
   "language": "python",
   "name": "python3"
  },
  "language_info": {
   "codemirror_mode": {
    "name": "ipython",
    "version": 3
   },
   "file_extension": ".py",
   "mimetype": "text/x-python",
   "name": "python",
   "nbconvert_exporter": "python",
   "pygments_lexer": "ipython3",
   "version": "3.10.19"
  }
 },
 "nbformat": 4,
 "nbformat_minor": 5
}
