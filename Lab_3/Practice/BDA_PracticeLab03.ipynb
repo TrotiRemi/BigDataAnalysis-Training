{
 "cells": [
  {
   "cell_type": "markdown",
   "id": "cf02544b",
   "metadata": {},
   "source": [
    "# BDA — Practice Lab 03 Notebook\n",
    "> Author : Badr TAJINI - Big Data Analytics - ESIEE 2025-2026\n",
    "\n",
    "Personalized PageRank + SMS spam classification in PySpark."
   ]
  },
  {
   "cell_type": "markdown",
   "id": "7e3c2961",
   "metadata": {},
   "source": [
    "## 0. Bootstrap"
   ]
  },
  {
   "cell_type": "code",
   "execution_count": 1,
   "id": "6a9f2efb",
   "metadata": {
    "execution": {
     "iopub.execute_input": "2025-10-08T23:23:25.685813Z",
     "iopub.status.busy": "2025-10-08T23:23:25.685219Z",
     "iopub.status.idle": "2025-10-08T23:23:37.774124Z",
     "shell.execute_reply": "2025-10-08T23:23:37.772842Z"
    }
   },
   "outputs": [
    {
     "name": "stderr",
     "output_type": "stream",
     "text": [
      "WARNING: Using incubator modules: jdk.incubator.vector\n"
     ]
    },
    {
     "name": "stderr",
     "output_type": "stream",
     "text": [
      "Using Spark's default log4j profile: org/apache/spark/log4j2-defaults.properties\n",
      "25/10/09 01:23:28 WARN Utils: Your hostname, btj-XPS-13-9380, resolves to a loopback address: 127.0.1.1; using 172.20.25.150 instead (on interface wlp2s0)\n",
      "25/10/09 01:23:28 WARN Utils: Set SPARK_LOCAL_IP if you need to bind to another address\n"
     ]
    },
    {
     "name": "stderr",
     "output_type": "stream",
     "text": [
      "Using Spark's default log4j profile: org/apache/spark/log4j2-defaults.properties\n",
      "Setting default log level to \"WARN\".\n",
      "To adjust logging level use sc.setLogLevel(newLevel). For SparkR, use setLogLevel(newLevel).\n"
     ]
    },
    {
     "name": "stderr",
     "output_type": "stream",
     "text": [
      "25/10/09 01:23:30 WARN NativeCodeLoader: Unable to load native-hadoop library for your platform... using builtin-java classes where applicable\n"
     ]
    },
    {
     "name": "stdout",
     "output_type": "stream",
     "text": [
      "Spark version: 4.0.1\n",
      "PySpark version: 4.0.1\n",
      "Python version: 3.13.5\n"
     ]
    },
    {
     "name": "stdout",
     "output_type": "stream",
     "text": [
      "Session timezone: UTC\n",
      "Shuffle partitions: 4\n"
     ]
    }
   ],
   "source": [
    "import sys\n",
    "import platform\n",
    "from pyspark.sql import SparkSession\n",
    "import pyspark\n",
    "\n",
    "spark = (\n",
    "    SparkSession.builder\n",
    "    .appName(\"BDA-PracticeLab03\")\n",
    "    .config(\"spark.sql.session.timeZone\", \"UTC\")\n",
    "    .config(\"spark.sql.shuffle.partitions\", \"4\")\n",
    "    .getOrCreate()\n",
    ")\n",
    "\n",
    "spark.sparkContext.setLogLevel(\"WARN\")\n",
    "\n",
    "print(f\"Spark version: {spark.version}\")\n",
    "print(f\"PySpark version: {pyspark.__version__}\")\n",
    "print(f\"Python version: {sys.version.split()[0]}\")\n",
    "print(f\"Session timezone: {spark.conf.get('spark.sql.session.timeZone')}\")\n",
    "print(f\"Shuffle partitions: {spark.conf.get('spark.sql.shuffle.partitions')}\")\n"
   ]
  },
  {
   "cell_type": "markdown",
   "id": "eceee900",
   "metadata": {},
   "source": [
    "## 1. Data acquisition"
   ]
  },
  {
   "cell_type": "code",
   "execution_count": 2,
   "id": "1e1db16a",
   "metadata": {
    "execution": {
     "iopub.execute_input": "2025-10-08T23:23:37.778537Z",
     "iopub.status.busy": "2025-10-08T23:23:37.777938Z",
     "iopub.status.idle": "2025-10-08T23:23:37.794459Z",
     "shell.execute_reply": "2025-10-08T23:23:37.792860Z"
    }
   },
   "outputs": [
    {
     "name": "stdout",
     "output_type": "stream",
     "text": [
      "Found existing graph at /home/btj/data-engineering-course/DE0/labs-final/lab3-practice/data/karate_edges.txt\n",
      "Found SMS dataset at /home/btj/data-engineering-course/DE0/labs-final/lab3-practice/data/sms.tsv\n",
      "Data directory ready: /home/btj/data-engineering-course/DE0/labs-final/lab3-practice/data\n"
     ]
    }
   ],
   "source": [
    "from pathlib import Path\n",
    "import urllib.request\n",
    "import zipfile\n",
    "\n",
    "BASE_DIR = Path.cwd()\n",
    "DATA_DIR = BASE_DIR / \"data\"\n",
    "OUTPUTS_DIR = BASE_DIR / \"outputs\"\n",
    "PROOF_DIR = BASE_DIR / \"proof\"\n",
    "\n",
    "for directory in (DATA_DIR, OUTPUTS_DIR, PROOF_DIR):\n",
    "    directory.mkdir(exist_ok=True)\n",
    "\n",
    "karate_path = DATA_DIR / \"karate_edges.txt\"\n",
    "if not karate_path.exists():\n",
    "    synthetic_edges = [\n",
    "        (\"1\", \"2\"), (\"1\", \"3\"), (\"1\", \"4\"), (\"2\", \"3\"), (\"2\", \"5\"), (\"2\", \"6\"),\n",
    "        (\"3\", \"4\"), (\"3\", \"6\"), (\"3\", \"7\"), (\"4\", \"5\"), (\"4\", \"7\"), (\"4\", \"8\"),\n",
    "        (\"5\", \"6\"), (\"5\", \"8\"), (\"6\", \"7\"), (\"6\", \"9\"), (\"7\", \"8\"), (\"7\", \"10\"),\n",
    "        (\"8\", \"1\"), (\"8\", \"9\"), (\"9\", \"10\"), (\"10\", \"1\"), (\"5\", \"1\"), (\"9\", \"2\"),\n",
    "    ]\n",
    "    edge_text = \"\\n\".join(f\"{u} {v}\" for u, v in synthetic_edges)\n",
    "    karate_path.write_text(edge_text)\n",
    "    print(f\"Generated synthetic graph with {len(synthetic_edges)} directed edges at {karate_path}\")\n",
    "else:\n",
    "    print(f\"Found existing graph at {karate_path}\")\n",
    "\n",
    "sms_path = DATA_DIR / \"sms.tsv\"\n",
    "if not sms_path.exists():\n",
    "    sms_url = \"https://archive.ics.uci.edu/ml/machine-learning-databases/00228/smsspamcollection.zip\"\n",
    "    zip_path = DATA_DIR / \"smsspamcollection.zip\"\n",
    "    if not zip_path.exists():\n",
    "        print(\"Downloading SMS Spam Collection dataset...\")\n",
    "        urllib.request.urlretrieve(sms_url, zip_path)\n",
    "    with zipfile.ZipFile(zip_path, \"r\") as zf:\n",
    "        with zf.open(\"SMSSpamCollection\") as src, sms_path.open(\"wb\") as dst:\n",
    "            dst.write(src.read())\n",
    "    print(f\"Extracted SMS dataset to {sms_path}\")\n",
    "else:\n",
    "    print(f\"Found SMS dataset at {sms_path}\")\n",
    "\n",
    "print(f\"Data directory ready: {DATA_DIR}\")\n"
   ]
  },
  {
   "cell_type": "markdown",
   "id": "b9bf25e6",
   "metadata": {},
   "source": [
    "## 2. Helpers: tokenizers and hashing"
   ]
  },
  {
   "cell_type": "code",
   "execution_count": 3,
   "id": "56221925",
   "metadata": {
    "execution": {
     "iopub.execute_input": "2025-10-08T23:23:37.799464Z",
     "iopub.status.busy": "2025-10-08T23:23:37.799067Z",
     "iopub.status.idle": "2025-10-08T23:23:37.953110Z",
     "shell.execute_reply": "2025-10-08T23:23:37.952099Z"
    }
   },
   "outputs": [],
   "source": [
    "import re\n",
    "import hashlib\n",
    "from pyspark.sql import functions as F\n",
    "from pyspark.sql.types import ArrayType, StringType\n",
    "from pyspark.ml.linalg import SparseVector, VectorUDT\n",
    "\n",
    "TOKEN_PATTERN = re.compile(r\"[a-z0-9]+\")\n",
    "FEATURE_HASHSIZE = 1 << 18\n",
    "\n",
    "def tokenize(text: str):\n",
    "    if not text:\n",
    "        return []\n",
    "    return TOKEN_PATTERN.findall(text.lower())\n",
    "\n",
    "def make_bigrams(tokens):\n",
    "    return [f\"{tokens[i]}_{tokens[i+1]}\" for i in range(len(tokens) - 1)]\n",
    "\n",
    "def hash_token(token: str) -> int:\n",
    "    return int(hashlib.md5(token.encode(\"utf-8\")).hexdigest(), 16) % FEATURE_HASHSIZE\n",
    "\n",
    "def featurize(text: str) -> SparseVector:\n",
    "    tokens = tokenize(text)\n",
    "    grams = tokens + make_bigrams(tokens)\n",
    "    if not grams:\n",
    "        return SparseVector(FEATURE_HASHSIZE, [], [])\n",
    "    counts = {}\n",
    "    for gram in grams:\n",
    "        idx = hash_token(gram)\n",
    "        counts[idx] = counts.get(idx, 0.0) + 1.0\n",
    "    indices = sorted(counts.keys())\n",
    "    values = [float(counts[i]) for i in indices]\n",
    "    return SparseVector(FEATURE_HASHSIZE, indices, values)\n",
    "\n",
    "def featurize_counts(text: str):\n",
    "    tokens = tokenize(text)\n",
    "    grams = tokens + make_bigrams(tokens)\n",
    "    counts = {}\n",
    "    for gram in grams:\n",
    "        idx = hash_token(gram)\n",
    "        counts[idx] = counts.get(idx, 0.0) + 1.0\n",
    "    return counts\n",
    "\n",
    "tokenize_udf = F.udf(tokenize, ArrayType(StringType()))\n",
    "featurize_udf = F.udf(featurize, VectorUDT())\n"
   ]
  },
  {
   "cell_type": "markdown",
   "id": "83257875",
   "metadata": {},
   "source": [
    "## 3. Part A — Multi-Source Personalized PageRank"
   ]
  },
  {
   "cell_type": "code",
   "execution_count": 4,
   "id": "4f0d7866",
   "metadata": {
    "execution": {
     "iopub.execute_input": "2025-10-08T23:23:37.956292Z",
     "iopub.status.busy": "2025-10-08T23:23:37.955909Z",
     "iopub.status.idle": "2025-10-08T23:25:29.193865Z",
     "shell.execute_reply": "2025-10-08T23:25:29.192521Z"
    }
   },
   "outputs": [
    {
     "name": "stderr",
     "output_type": "stream",
     "text": [
      "\r\n",
      "[Stage 0:>                                                          (0 + 2) / 2]\r"
     ]
    },
    {
     "name": "stderr",
     "output_type": "stream",
     "text": [
      "\r\n",
      "                                                                                \r"
     ]
    },
    {
     "name": "stdout",
     "output_type": "stream",
     "text": [
      "Running PPR with alpha=0.85, iterations=10, sources=['3', '5', '7']\n"
     ]
    },
    {
     "name": "stderr",
     "output_type": "stream",
     "text": [
      "\r\n",
      "[Stage 4:>                                                         (0 + 8) / 16]\r\n",
      "\r\n",
      "[Stage 4:==================>                                       (5 + 8) / 16]\r"
     ]
    },
    {
     "name": "stderr",
     "output_type": "stream",
     "text": [
      "\r\n",
      "[Stage 4:=========================>                                (7 + 8) / 16]\r\n",
      "\r\n",
      "[Stage 4:=============================>                            (8 + 8) / 16]\r"
     ]
    },
    {
     "name": "stderr",
     "output_type": "stream",
     "text": [
      "\r\n",
      "[Stage 4:=====================================================>   (15 + 1) / 16]\r"
     ]
    },
    {
     "name": "stderr",
     "output_type": "stream",
     "text": [
      "\r\n",
      "                                                                                \r"
     ]
    },
    {
     "name": "stderr",
     "output_type": "stream",
     "text": [
      "\r\n",
      "[Stage 8:===================>                                      (8 + 8) / 24]\r\n",
      "\r\n",
      "[Stage 8:======================================>                  (16 + 8) / 24]\r"
     ]
    },
    {
     "name": "stderr",
     "output_type": "stream",
     "text": [
      "\r\n",
      "[Stage 8:=================================================>       (21 + 3) / 24]\r"
     ]
    },
    {
     "name": "stderr",
     "output_type": "stream",
     "text": [
      "\r\n",
      "[Stage 9:======================================================>  (23 + 1) / 24]\r\n",
      "\r\n",
      "                                                                                \r"
     ]
    },
    {
     "name": "stderr",
     "output_type": "stream",
     "text": [
      "\r\n",
      "[Stage 13:==============================================>         (20 + 4) / 24]\r\n",
      "\r\n",
      "                                                                                \r"
     ]
    },
    {
     "name": "stdout",
     "output_type": "stream",
     "text": [
      "Iteration 01 | total_mass=1.000000 | preview=[('8', 0.2361111111111111), ('6', 0.18888888888888888), ('7', 0.14444444444444446)]\n"
     ]
    },
    {
     "name": "stderr",
     "output_type": "stream",
     "text": [
      "\r\n",
      "[Stage 17:========================>                               (14 + 8) / 32]\r"
     ]
    },
    {
     "name": "stderr",
     "output_type": "stream",
     "text": [
      "\r\n",
      "[Stage 17:===============================>                        (18 + 8) / 32]\r\n",
      "\r\n",
      "[Stage 17:===========================================>            (25 + 7) / 32]\r"
     ]
    },
    {
     "name": "stderr",
     "output_type": "stream",
     "text": [
      "\r\n",
      "                                                                                \r"
     ]
    },
    {
     "name": "stderr",
     "output_type": "stream",
     "text": [
      "\r\n",
      "[Stage 23:=================================================>      (28 + 4) / 32]\r"
     ]
    },
    {
     "name": "stderr",
     "output_type": "stream",
     "text": [
      "\r\n",
      "[Stage 24:===================>                                    (14 + 8) / 40]\r"
     ]
    },
    {
     "name": "stderr",
     "output_type": "stream",
     "text": [
      "\r\n",
      "[Stage 24:================================>                       (23 + 8) / 40]\r\n",
      "\r\n",
      "[Stage 24:========================================>               (29 + 9) / 40]\r"
     ]
    },
    {
     "name": "stderr",
     "output_type": "stream",
     "text": [
      "\r\n",
      "[Stage 24:=================================================>      (35 + 5) / 40]\r"
     ]
    },
    {
     "name": "stderr",
     "output_type": "stream",
     "text": [
      "\r\n",
      "[Stage 25:=================================>                      (24 + 8) / 40]\r\n",
      "\r\n",
      "[Stage 25:=====================================================>  (38 + 2) / 40]\r"
     ]
    },
    {
     "name": "stderr",
     "output_type": "stream",
     "text": [
      "\r\n",
      "                                                                                \r"
     ]
    },
    {
     "name": "stderr",
     "output_type": "stream",
     "text": [
      "\r\n",
      "[Stage 32:====================================>                   (26 + 9) / 40]\r\n",
      "\r\n",
      "                                                                                \r"
     ]
    },
    {
     "name": "stdout",
     "output_type": "stream",
     "text": [
      "Iteration 02 | total_mass=1.000000 | preview=[('1', 0.2349305555555556), ('9', 0.180625), ('7', 0.17120370370370372)]\n"
     ]
    },
    {
     "name": "stderr",
     "output_type": "stream",
     "text": [
      "\r\n",
      "[Stage 39:==============================>                         (26 + 8) / 48]\r"
     ]
    },
    {
     "name": "stderr",
     "output_type": "stream",
     "text": [
      "\r\n",
      "[Stage 39:===================================>                    (30 + 9) / 48]\r\n",
      "\r\n",
      "[Stage 39:==============================================>         (40 + 8) / 48]\r"
     ]
    },
    {
     "name": "stderr",
     "output_type": "stream",
     "text": [
      "\r\n",
      "[Stage 40:=======================================>                (34 + 8) / 48]\r\n",
      "\r\n",
      "                                                                                \r"
     ]
    },
    {
     "name": "stderr",
     "output_type": "stream",
     "text": [
      "\r\n",
      "[Stage 48:==================================>                    (30 + 11) / 48]\r\n",
      "\r\n",
      "[Stage 48:=====================================================>  (46 + 2) / 48]\r"
     ]
    },
    {
     "name": "stderr",
     "output_type": "stream",
     "text": [
      "\r\n",
      "[Stage 49:=====================>                                  (21 + 9) / 56]\r"
     ]
    },
    {
     "name": "stderr",
     "output_type": "stream",
     "text": [
      "\r\n",
      "[Stage 49:=============================>                          (29 + 9) / 56]\r\n",
      "\r\n",
      "[Stage 49:===================================>                   (36 + 11) / 56]\r"
     ]
    },
    {
     "name": "stderr",
     "output_type": "stream",
     "text": [
      "\r\n",
      "[Stage 49:===============================================>        (47 + 8) / 56]\r\n",
      "\r\n",
      "[Stage 49:=======================================================>(55 + 1) / 56]\r"
     ]
    },
    {
     "name": "stderr",
     "output_type": "stream",
     "text": [
      "\r\n",
      "[Stage 50:=================================>                      (33 + 9) / 56]\r\n",
      "\r\n",
      "[Stage 50:=================================================>      (49 + 7) / 56]\r"
     ]
    },
    {
     "name": "stderr",
     "output_type": "stream",
     "text": [
      "\r\n",
      "                                                                                \r"
     ]
    },
    {
     "name": "stderr",
     "output_type": "stream",
     "text": [
      "\r\n",
      "[Stage 60:=====================>                                  (21 + 9) / 56]\r\n",
      "\r\n",
      "[Stage 60:=======================================>                (39 + 8) / 56]\r"
     ]
    },
    {
     "name": "stderr",
     "output_type": "stream",
     "text": [
      "\r\n",
      "[Stage 60:===================================================>    (51 + 5) / 56]\r\n",
      "\r\n",
      "                                                                                \r"
     ]
    },
    {
     "name": "stdout",
     "output_type": "stream",
     "text": [
      "Iteration 03 | total_mass=1.000000 | preview=[('10', 0.14952719907407408), ('2', 0.14332928240740742), ('3', 0.1241454475308642)]\n"
     ]
    },
    {
     "name": "stderr",
     "output_type": "stream",
     "text": [
      "\r\n",
      "[Stage 70:==================>                                    (21 + 10) / 64]\r\n",
      "\r\n",
      "[Stage 70:============================>                           (33 + 9) / 64]\r"
     ]
    },
    {
     "name": "stderr",
     "output_type": "stream",
     "text": [
      "\r\n",
      "[Stage 70:========================================>               (46 + 8) / 64]\r\n",
      "\r\n",
      "[Stage 70:========================================>              (47 + 10) / 64]\r"
     ]
    },
    {
     "name": "stderr",
     "output_type": "stream",
     "text": [
      "\r\n",
      "[Stage 70:======================================================> (62 + 2) / 64]\r"
     ]
    },
    {
     "name": "stderr",
     "output_type": "stream",
     "text": [
      "\r\n",
      "[Stage 71:=================================>                      (38 + 9) / 64]\r"
     ]
    },
    {
     "name": "stderr",
     "output_type": "stream",
     "text": [
      "\r\n",
      "[Stage 71:===============================================>        (54 + 8) / 64]\r\n",
      "\r\n",
      "                                                                                \r"
     ]
    },
    {
     "name": "stderr",
     "output_type": "stream",
     "text": [
      "\r\n",
      "[Stage 82:=========================>                              (29 + 8) / 64]\r"
     ]
    },
    {
     "name": "stderr",
     "output_type": "stream",
     "text": [
      "\r\n",
      "[Stage 82:=====================================>                  (43 + 8) / 64]\r\n",
      "\r\n",
      "[Stage 82:===================================================>    (59 + 5) / 64]\r"
     ]
    },
    {
     "name": "stderr",
     "output_type": "stream",
     "text": [
      "\r\n",
      "[Stage 83:============================>                           (36 + 8) / 72]\r"
     ]
    },
    {
     "name": "stderr",
     "output_type": "stream",
     "text": [
      "\r\n",
      "[Stage 83:===================================>                    (45 + 8) / 72]\r\n",
      "\r\n",
      "[Stage 83:=========================================>              (53 + 8) / 72]\r"
     ]
    },
    {
     "name": "stderr",
     "output_type": "stream",
     "text": [
      "\r\n",
      "[Stage 83:=================================================>      (63 + 8) / 72]\r"
     ]
    },
    {
     "name": "stderr",
     "output_type": "stream",
     "text": [
      "\r\n",
      "[Stage 84:===============================>                        (41 + 8) / 72]\r\n",
      "\r\n",
      "[Stage 84:=============================================>          (58 + 8) / 72]\r"
     ]
    },
    {
     "name": "stderr",
     "output_type": "stream",
     "text": [
      "\r\n",
      "                                                                                \r"
     ]
    },
    {
     "name": "stderr",
     "output_type": "stream",
     "text": [
      "\r\n",
      "[Stage 97:============================>                           (37 + 8) / 72]\r\n",
      "\r\n",
      "[Stage 97:==========================================>             (54 + 8) / 72]\r"
     ]
    },
    {
     "name": "stderr",
     "output_type": "stream",
     "text": [
      "\r\n",
      "[Stage 97:========================================================(72 + 0) / 72]\r\n",
      "\r\n",
      "                                                                                \r"
     ]
    },
    {
     "name": "stdout",
     "output_type": "stream",
     "text": [
      "Iteration 04 | total_mass=1.000000 | preview=[('1', 0.19179332883230454), ('7', 0.1319047582304527), ('3', 0.12387692579732512)]\n"
     ]
    },
    {
     "name": "stderr",
     "output_type": "stream",
     "text": [
      "\r\n",
      "[Stage 110:=============>                                         (19 + 9) / 80]\r\n",
      "\r\n",
      "[Stage 110:===================>                                   (29 + 8) / 80]\r"
     ]
    },
    {
     "name": "stderr",
     "output_type": "stream",
     "text": [
      "\r\n",
      "[Stage 110:========================>                              (36 + 9) / 80]\r"
     ]
    },
    {
     "name": "stderr",
     "output_type": "stream",
     "text": [
      "\r\n",
      "[Stage 110:==============================>                        (45 + 8) / 80]\r\n",
      "\r\n",
      "[Stage 110:====================================>                  (53 + 8) / 80]\r"
     ]
    },
    {
     "name": "stderr",
     "output_type": "stream",
     "text": [
      "\r\n",
      "[Stage 110:========================================>              (59 + 8) / 80]\r"
     ]
    },
    {
     "name": "stderr",
     "output_type": "stream",
     "text": [
      "\r\n",
      "[Stage 110:=================================================>     (72 + 8) / 80]\r"
     ]
    },
    {
     "name": "stderr",
     "output_type": "stream",
     "text": [
      "\r\n",
      "[Stage 111:=======================>                               (34 + 8) / 80]\r\n",
      "\r\n",
      "[Stage 111:=================================>                     (48 + 9) / 80]\r"
     ]
    },
    {
     "name": "stderr",
     "output_type": "stream",
     "text": [
      "\r\n",
      "[Stage 111:=============================================>         (66 + 8) / 80]\r\n",
      "\r\n",
      "                                                                                \r"
     ]
    },
    {
     "name": "stderr",
     "output_type": "stream",
     "text": [
      "\r\n",
      "[Stage 125:======================>                                (33 + 9) / 80]\r\n",
      "\r\n",
      "[Stage 125:===============================>                       (46 + 8) / 80]\r"
     ]
    },
    {
     "name": "stderr",
     "output_type": "stream",
     "text": [
      "\r\n",
      "[Stage 125:=======================================>               (58 + 9) / 80]\r\n",
      "\r\n",
      "[Stage 125:================================================>      (71 + 9) / 80]\r"
     ]
    },
    {
     "name": "stderr",
     "output_type": "stream",
     "text": [
      "\r\n",
      "[Stage 126:===========>                                           (18 + 8) / 88]\r\n",
      "\r\n",
      "[Stage 126:================>                                      (26 + 8) / 88]\r"
     ]
    },
    {
     "name": "stderr",
     "output_type": "stream",
     "text": [
      "\r\n",
      "[Stage 126:=======================>                               (38 + 9) / 88]\r\n",
      "\r\n",
      "[Stage 126:==========================>                            (43 + 8) / 88]\r"
     ]
    },
    {
     "name": "stderr",
     "output_type": "stream",
     "text": [
      "\r\n",
      "[Stage 126:==================================>                    (55 + 9) / 88]\r\n",
      "\r\n",
      "[Stage 126:=======================================>               (63 + 9) / 88]\r"
     ]
    },
    {
     "name": "stderr",
     "output_type": "stream",
     "text": [
      "\r\n",
      "[Stage 126:=============================================>         (72 + 8) / 88]\r\n",
      "\r\n",
      "[Stage 126:==================================================>    (81 + 7) / 88]\r"
     ]
    },
    {
     "name": "stderr",
     "output_type": "stream",
     "text": [
      "\r\n",
      "[Stage 127:============================>                          (46 + 8) / 88]\r"
     ]
    },
    {
     "name": "stderr",
     "output_type": "stream",
     "text": [
      "\r\n",
      "[Stage 127:=====================================>                 (60 + 8) / 88]\r\n",
      "\r\n",
      "[Stage 127:==============================================>        (75 + 8) / 88]\r"
     ]
    },
    {
     "name": "stderr",
     "output_type": "stream",
     "text": [
      "\r\n",
      "                                                                                \r"
     ]
    },
    {
     "name": "stderr",
     "output_type": "stream",
     "text": [
      "\r\n",
      "[Stage 143:=========================>                             (41 + 8) / 88]\r\n",
      "\r\n",
      "[Stage 143:===================================>                   (57 + 8) / 88]\r"
     ]
    },
    {
     "name": "stderr",
     "output_type": "stream",
     "text": [
      "\r\n",
      "[Stage 143:=============================================>        (74 + 10) / 88]\r\n",
      "\r\n",
      "                                                                                \r"
     ]
    },
    {
     "name": "stdout",
     "output_type": "stream",
     "text": [
      "Iteration 05 | total_mass=1.000000 | preview=[('7', 0.14502875795717596), ('1', 0.12347244909550756), ('3', 0.12045327369470166)]\n"
     ]
    },
    {
     "name": "stderr",
     "output_type": "stream",
     "text": [
      "\r\n",
      "[Stage 159:==============>                                        (25 + 8) / 96]\r\n",
      "\r\n",
      "[Stage 159:===================>                                   (34 + 8) / 96]\r"
     ]
    },
    {
     "name": "stderr",
     "output_type": "stream",
     "text": [
      "\r\n",
      "[Stage 159:=======================>                               (41 + 8) / 96]\r\n",
      "\r\n",
      "[Stage 159:===========================>                           (48 + 8) / 96]\r"
     ]
    },
    {
     "name": "stderr",
     "output_type": "stream",
     "text": [
      "\r\n",
      "[Stage 159:==============================>                        (54 + 8) / 96]\r\n",
      "\r\n",
      "[Stage 159:===================================>                   (62 + 8) / 96]\r"
     ]
    },
    {
     "name": "stderr",
     "output_type": "stream",
     "text": [
      "\r\n",
      "[Stage 159:========================================>              (70 + 8) / 96]\r\n",
      "\r\n",
      "[Stage 159:=============================================>         (79 + 8) / 96]\r"
     ]
    },
    {
     "name": "stderr",
     "output_type": "stream",
     "text": [
      "\r\n",
      "[Stage 159:==================================================>    (88 + 8) / 96]\r"
     ]
    },
    {
     "name": "stderr",
     "output_type": "stream",
     "text": [
      "\r\n",
      "[Stage 160:===========================>                           (48 + 8) / 96]\r\n",
      "\r\n",
      "[Stage 160:======================================>                (67 + 8) / 96]\r"
     ]
    },
    {
     "name": "stderr",
     "output_type": "stream",
     "text": [
      "\r\n",
      "[Stage 160:================================================>      (84 + 8) / 96]\r\n",
      "\r\n",
      "                                                                                \r"
     ]
    },
    {
     "name": "stderr",
     "output_type": "stream",
     "text": [
      "\r\n",
      "[Stage 177:=====================>                                 (37 + 8) / 96]\r\n",
      "\r\n",
      "[Stage 177:=============================>                        (53 + 11) / 96]\r"
     ]
    },
    {
     "name": "stderr",
     "output_type": "stream",
     "text": [
      "\r\n",
      "[Stage 177:=======================================>               (69 + 8) / 96]\r\n",
      "\r\n",
      "[Stage 177:==============================================>        (82 + 8) / 96]\r"
     ]
    },
    {
     "name": "stderr",
     "output_type": "stream",
     "text": [
      "\r\n",
      "[Stage 177:====================================================>  (92 + 4) / 96]\r"
     ]
    },
    {
     "name": "stderr",
     "output_type": "stream",
     "text": [
      "\r\n",
      "[Stage 178:=========>                                            (18 + 8) / 104]\r\n",
      "\r\n",
      "[Stage 178:================>                                     (31 + 8) / 104]\r"
     ]
    },
    {
     "name": "stderr",
     "output_type": "stream",
     "text": [
      "\r\n",
      "[Stage 178:====================>                                 (40 + 8) / 104]\r\n",
      "\r\n",
      "[Stage 178:========================>                             (47 + 8) / 104]\r"
     ]
    },
    {
     "name": "stderr",
     "output_type": "stream",
     "text": [
      "\r\n",
      "[Stage 178:============================>                         (55 + 8) / 104]\r\n",
      "\r\n",
      "[Stage 178:==================================>                   (66 + 8) / 104]\r"
     ]
    },
    {
     "name": "stderr",
     "output_type": "stream",
     "text": [
      "\r\n",
      "[Stage 178:=======================================>              (77 + 8) / 104]\r"
     ]
    },
    {
     "name": "stderr",
     "output_type": "stream",
     "text": [
      "\r\n",
      "[Stage 178:==========================================>          (84 + 10) / 104]\r\n",
      "\r\n",
      "[Stage 178:==================================================>   (98 + 6) / 104]\r"
     ]
    },
    {
     "name": "stderr",
     "output_type": "stream",
     "text": [
      "\r\n",
      "[Stage 179:=====================>                                (41 + 9) / 104]\r\n",
      "\r\n",
      "[Stage 179:============================>                         (55 + 8) / 104]\r"
     ]
    },
    {
     "name": "stderr",
     "output_type": "stream",
     "text": [
      "\r\n",
      "[Stage 179:===================================>                  (69 + 9) / 104]\r\n",
      "\r\n",
      "[Stage 179:==========================================>           (81 + 8) / 104]\r"
     ]
    },
    {
     "name": "stderr",
     "output_type": "stream",
     "text": [
      "\r\n",
      "[Stage 179:==================================================>   (98 + 6) / 104]\r\n",
      "\r\n",
      "                                                                                \r"
     ]
    },
    {
     "name": "stderr",
     "output_type": "stream",
     "text": [
      "\r\n",
      "[Stage 198:======================>                               (44 + 8) / 104]\r\n",
      "\r\n",
      "[Stage 198:=============================>                        (57 + 9) / 104]\r"
     ]
    },
    {
     "name": "stderr",
     "output_type": "stream",
     "text": [
      "\r\n",
      "[Stage 198:======================================>               (75 + 8) / 104]\r\n",
      "\r\n",
      "[Stage 198:==============================================>       (90 + 8) / 104]\r"
     ]
    },
    {
     "name": "stderr",
     "output_type": "stream",
     "text": [
      "\r\n",
      "                                                                                \r"
     ]
    },
    {
     "name": "stdout",
     "output_type": "stream",
     "text": [
      "Iteration 06 | total_mass=1.000000 | preview=[('7', 0.14515809592549725), ('1', 0.14200011305753815), ('8', 0.11120454600225586)]\n"
     ]
    },
    {
     "name": "stderr",
     "output_type": "stream",
     "text": [
      "\r\n",
      "[Stage 217:=========>                                            (19 + 8) / 112]\r\n",
      "\r\n",
      "[Stage 217:=============>                                        (29 + 8) / 112]\r"
     ]
    },
    {
     "name": "stderr",
     "output_type": "stream",
     "text": [
      "\r\n",
      "[Stage 217:==================>                                   (38 + 8) / 112]\r\n",
      "\r\n",
      "[Stage 217:=======================>                              (49 + 8) / 112]\r"
     ]
    },
    {
     "name": "stderr",
     "output_type": "stream",
     "text": [
      "\r\n",
      "[Stage 217:===========================>                          (58 + 8) / 112]\r\n",
      "\r\n",
      "[Stage 217:=============================>                       (62 + 11) / 112]\r"
     ]
    },
    {
     "name": "stderr",
     "output_type": "stream",
     "text": [
      "\r\n",
      "[Stage 217:====================================>                 (75 + 9) / 112]\r\n",
      "\r\n",
      "[Stage 217:========================================>             (84 + 8) / 112]\r"
     ]
    },
    {
     "name": "stderr",
     "output_type": "stream",
     "text": [
      "\r\n",
      "[Stage 217:============================================>         (92 + 8) / 112]\r"
     ]
    },
    {
     "name": "stderr",
     "output_type": "stream",
     "text": [
      "\r\n",
      "[Stage 217:===============================================>     (100 + 8) / 112]\r\n",
      "\r\n",
      "[Stage 217:===================================================> (108 + 4) / 112]\r"
     ]
    },
    {
     "name": "stderr",
     "output_type": "stream",
     "text": [
      "\r\n",
      "[Stage 218:=================>                                    (36 + 9) / 112]\r\n",
      "\r\n",
      "[Stage 218:========================>                             (51 + 9) / 112]\r"
     ]
    },
    {
     "name": "stderr",
     "output_type": "stream",
     "text": [
      "\r\n",
      "[Stage 218:================================>                     (67 + 8) / 112]\r\n",
      "\r\n",
      "[Stage 218:========================================>             (84 + 8) / 112]\r"
     ]
    },
    {
     "name": "stderr",
     "output_type": "stream",
     "text": [
      "\r\n",
      "[Stage 218:===============================================>     (100 + 8) / 112]\r\n",
      "\r\n",
      "                                                                                \r"
     ]
    },
    {
     "name": "stderr",
     "output_type": "stream",
     "text": [
      "\r\n",
      "[Stage 238:===================>                                  (41 + 8) / 112]\r\n",
      "\r\n",
      "[Stage 238:===========================>                          (58 + 8) / 112]\r"
     ]
    },
    {
     "name": "stderr",
     "output_type": "stream",
     "text": [
      "\r\n",
      "[Stage 238:==================================>                   (71 + 9) / 112]\r\n",
      "\r\n",
      "[Stage 238:==========================================>           (88 + 8) / 112]\r"
     ]
    },
    {
     "name": "stderr",
     "output_type": "stream",
     "text": [
      "\r\n",
      "[Stage 238:================================================>    (102 + 9) / 112]\r"
     ]
    },
    {
     "name": "stderr",
     "output_type": "stream",
     "text": [
      "\r\n",
      "[Stage 239:============>                                         (27 + 8) / 120]\r\n",
      "\r\n",
      "[Stage 239:================>                                     (37 + 8) / 120]\r"
     ]
    },
    {
     "name": "stderr",
     "output_type": "stream",
     "text": [
      "\r\n",
      "[Stage 239:===================>                                  (43 + 8) / 120]\r\n",
      "\r\n",
      "[Stage 239:======================>                               (50 + 8) / 120]\r"
     ]
    },
    {
     "name": "stderr",
     "output_type": "stream",
     "text": [
      "\r\n",
      "[Stage 239:==========================>                           (59 + 8) / 120]\r\n",
      "\r\n",
      "[Stage 239:==============================>                       (68 + 8) / 120]\r"
     ]
    },
    {
     "name": "stderr",
     "output_type": "stream",
     "text": [
      "\r\n",
      "[Stage 239:==================================>                   (77 + 8) / 120]\r\n",
      "\r\n",
      "[Stage 239:==================================>                  (79 + 11) / 120]\r"
     ]
    },
    {
     "name": "stderr",
     "output_type": "stream",
     "text": [
      "\r\n",
      "[Stage 239:=======================================>              (88 + 9) / 120]\r\n",
      "\r\n",
      "[Stage 239:=============================================>       (102 + 8) / 120]\r"
     ]
    },
    {
     "name": "stderr",
     "output_type": "stream",
     "text": [
      "\r\n",
      "[Stage 239:================================================>    (110 + 8) / 120]\r\n",
      "\r\n",
      "[Stage 239:====================================================>(118 + 2) / 120]\r"
     ]
    },
    {
     "name": "stderr",
     "output_type": "stream",
     "text": [
      "\r\n",
      "[Stage 240:=============>                                        (31 + 8) / 120]\r\n",
      "\r\n",
      "[Stage 240:=====================>                                (47 + 8) / 120]\r"
     ]
    },
    {
     "name": "stderr",
     "output_type": "stream",
     "text": [
      "\r\n",
      "[Stage 240:==========================>                           (59 + 9) / 120]\r\n",
      "\r\n",
      "[Stage 240:================================>                    (73 + 11) / 120]\r"
     ]
    },
    {
     "name": "stderr",
     "output_type": "stream",
     "text": [
      "\r\n",
      "[Stage 240:========================================>             (90 + 9) / 120]\r\n",
      "\r\n",
      "[Stage 240:==============================================>      (106 + 8) / 120]\r"
     ]
    },
    {
     "name": "stderr",
     "output_type": "stream",
     "text": [
      "\r\n",
      "                                                                                \r"
     ]
    },
    {
     "name": "stderr",
     "output_type": "stream",
     "text": [
      "\r\n",
      "[Stage 262:===================>                                  (43 + 8) / 120]\r\n",
      "\r\n",
      "[Stage 262:=========================>                            (56 + 9) / 120]\r"
     ]
    },
    {
     "name": "stderr",
     "output_type": "stream",
     "text": [
      "\r\n",
      "[Stage 262:===============================>                      (69 + 8) / 120]\r\n",
      "\r\n",
      "[Stage 262:=====================================>                (83 + 8) / 120]\r"
     ]
    },
    {
     "name": "stderr",
     "output_type": "stream",
     "text": [
      "\r\n",
      "[Stage 262:=========================================>            (92 + 8) / 120]\r\n",
      "\r\n",
      "[Stage 262:==================================================>  (114 + 6) / 120]\r"
     ]
    },
    {
     "name": "stderr",
     "output_type": "stream",
     "text": [
      "\r\n",
      "                                                                                \r"
     ]
    },
    {
     "name": "stdout",
     "output_type": "stream",
     "text": [
      "Iteration 07 | total_mass=1.000000 | preview=[('1', 0.1553613090023497), ('7', 0.13506524349475568), ('3', 0.10938526687363735)]\n"
     ]
    },
    {
     "name": "stderr",
     "output_type": "stream",
     "text": [
      "\r\n",
      "[Stage 284:=======>                                              (18 + 8) / 128]\r\n",
      "\r\n",
      "[Stage 284:==========>                                           (24 + 8) / 128]\r"
     ]
    },
    {
     "name": "stderr",
     "output_type": "stream",
     "text": [
      "\r\n",
      "[Stage 284:=============>                                        (31 + 9) / 128]\r\n",
      "\r\n",
      "[Stage 284:================>                                     (39 + 8) / 128]\r"
     ]
    },
    {
     "name": "stderr",
     "output_type": "stream",
     "text": [
      "\r\n",
      "[Stage 284:===================>                                  (47 + 8) / 128]\r\n",
      "\r\n",
      "[Stage 284:========================>                             (57 + 8) / 128]\r"
     ]
    },
    {
     "name": "stderr",
     "output_type": "stream",
     "text": [
      "\r\n",
      "[Stage 284:============================>                         (68 + 8) / 128]\r\n",
      "\r\n",
      "[Stage 284:================================>                     (78 + 8) / 128]\r"
     ]
    },
    {
     "name": "stderr",
     "output_type": "stream",
     "text": [
      "\r\n",
      "[Stage 284:===================================>                 (86 + 10) / 128]\r\n",
      "\r\n",
      "[Stage 284:========================================>             (95 + 8) / 128]\r"
     ]
    },
    {
     "name": "stderr",
     "output_type": "stream",
     "text": [
      "\r\n",
      "[Stage 284:==========================================>          (103 + 8) / 128]\r\n",
      "\r\n",
      "[Stage 284:=============================================>       (111 + 8) / 128]\r"
     ]
    },
    {
     "name": "stderr",
     "output_type": "stream",
     "text": [
      "\r\n",
      "[Stage 284:=================================================>   (120 + 8) / 128]\r"
     ]
    },
    {
     "name": "stderr",
     "output_type": "stream",
     "text": [
      "\r\n",
      "[Stage 285:=================>                                    (41 + 9) / 128]\r\n",
      "\r\n",
      "[Stage 285:======================>                               (53 + 9) / 128]\r"
     ]
    },
    {
     "name": "stderr",
     "output_type": "stream",
     "text": [
      "\r\n",
      "[Stage 285:===========================>                          (65 + 8) / 128]\r\n",
      "\r\n",
      "[Stage 285:==================================>                   (81 + 8) / 128]\r"
     ]
    },
    {
     "name": "stderr",
     "output_type": "stream",
     "text": [
      "\r\n",
      "[Stage 285:=========================================>            (99 + 9) / 128]\r\n",
      "\r\n",
      "[Stage 285:=============================================>       (111 + 8) / 128]\r"
     ]
    },
    {
     "name": "stderr",
     "output_type": "stream",
     "text": [
      "\r\n",
      "[Stage 285:==================================================>  (123 + 5) / 128]\r\n",
      "\r\n",
      "                                                                                \r"
     ]
    },
    {
     "name": "stderr",
     "output_type": "stream",
     "text": [
      "\r\n",
      "[Stage 308:=============>                                        (31 + 8) / 128]\r\n",
      "\r\n",
      "[Stage 308:=====================>                                (50 + 8) / 128]\r"
     ]
    },
    {
     "name": "stderr",
     "output_type": "stream",
     "text": [
      "\r\n",
      "[Stage 308:==========================>                          (63 + 10) / 128]\r\n",
      "\r\n",
      "[Stage 308:================================>                     (77 + 8) / 128]\r"
     ]
    },
    {
     "name": "stderr",
     "output_type": "stream",
     "text": [
      "\r\n",
      "[Stage 308:=======================================>              (93 + 8) / 128]\r"
     ]
    },
    {
     "name": "stderr",
     "output_type": "stream",
     "text": [
      "\r\n",
      "[Stage 308:==============================================>      (112 + 8) / 128]\r\n",
      "\r\n",
      "[Stage 308:=================================================>   (120 + 8) / 128]\r"
     ]
    },
    {
     "name": "stderr",
     "output_type": "stream",
     "text": [
      "\r\n",
      "[Stage 309:===========>                                          (28 + 8) / 136]\r\n",
      "\r\n",
      "[Stage 309:==============>                                       (37 + 8) / 136]\r"
     ]
    },
    {
     "name": "stderr",
     "output_type": "stream",
     "text": [
      "\r\n",
      "[Stage 309:===================>                                  (50 + 8) / 136]\r"
     ]
    },
    {
     "name": "stderr",
     "output_type": "stream",
     "text": [
      "\r\n",
      "[Stage 309:=======================>                              (60 + 8) / 136]\r\n",
      "\r\n",
      "[Stage 309:===========================>                          (69 + 8) / 136]\r"
     ]
    },
    {
     "name": "stderr",
     "output_type": "stream",
     "text": [
      "\r\n",
      "[Stage 309:=============================>                        (75 + 9) / 136]\r"
     ]
    },
    {
     "name": "stderr",
     "output_type": "stream",
     "text": [
      "\r\n",
      "[Stage 309:=================================>                    (84 + 8) / 136]\r\n",
      "\r\n",
      "[Stage 309:====================================>                 (93 + 8) / 136]\r"
     ]
    },
    {
     "name": "stderr",
     "output_type": "stream",
     "text": [
      "\r\n",
      "[Stage 309:=======================================>             (102 + 8) / 136]\r\n",
      "\r\n",
      "[Stage 309:============================================>        (114 + 8) / 136]\r"
     ]
    },
    {
     "name": "stderr",
     "output_type": "stream",
     "text": [
      "\r\n",
      "[Stage 309:===============================================>     (122 + 8) / 136]\r\n",
      "\r\n",
      "[Stage 309:===================================================> (133 + 3) / 136]\r"
     ]
    },
    {
     "name": "stderr",
     "output_type": "stream",
     "text": [
      "\r\n",
      "[Stage 310:================>                                     (41 + 8) / 136]\r\n",
      "\r\n",
      "[Stage 310:=======================>                              (58 + 8) / 136]\r"
     ]
    },
    {
     "name": "stderr",
     "output_type": "stream",
     "text": [
      "\r\n",
      "[Stage 310:=============================>                        (74 + 9) / 136]\r\n",
      "\r\n",
      "[Stage 310:=====================================>                (94 + 8) / 136]\r"
     ]
    },
    {
     "name": "stderr",
     "output_type": "stream",
     "text": [
      "\r\n",
      "[Stage 310:=========================================>           (107 + 8) / 136]\r\n",
      "\r\n",
      "[Stage 310:===============================================>     (123 + 8) / 136]\r"
     ]
    },
    {
     "name": "stderr",
     "output_type": "stream",
     "text": [
      "\r\n",
      "                                                                                \r"
     ]
    },
    {
     "name": "stderr",
     "output_type": "stream",
     "text": [
      "\r\n",
      "[Stage 335:================>                                     (42 + 9) / 136]\r\n",
      "\r\n",
      "[Stage 335:======================>                               (57 + 8) / 136]\r"
     ]
    },
    {
     "name": "stderr",
     "output_type": "stream",
     "text": [
      "\r\n",
      "[Stage 335:=============================>                        (74 + 8) / 136]\r"
     ]
    },
    {
     "name": "stderr",
     "output_type": "stream",
     "text": [
      "\r\n",
      "[Stage 335:====================================>                 (93 + 8) / 136]\r\n",
      "\r\n",
      "[Stage 335:=========================================>           (106 + 8) / 136]\r"
     ]
    },
    {
     "name": "stderr",
     "output_type": "stream",
     "text": [
      "\r\n",
      "[Stage 335:=============================================>      (120 + 10) / 136]\r\n",
      "\r\n",
      "                                                                                \r"
     ]
    },
    {
     "name": "stdout",
     "output_type": "stream",
     "text": [
      "Iteration 08 | total_mass=1.000000 | preview=[('1', 0.15352265900708728), ('7', 0.1341868014205485), ('3', 0.11525402134675089)]\n"
     ]
    },
    {
     "name": "stderr",
     "output_type": "stream",
     "text": [
      "\r\n",
      "[Stage 360:=======>                                              (21 + 9) / 144]\r\n",
      "\r\n",
      "[Stage 360:===========>                                          (31 + 8) / 144]\r"
     ]
    },
    {
     "name": "stderr",
     "output_type": "stream",
     "text": [
      "\r\n",
      "[Stage 360:==============>                                       (38 + 9) / 144]\r"
     ]
    },
    {
     "name": "stderr",
     "output_type": "stream",
     "text": [
      "\r\n",
      "[Stage 360:================>                                     (45 + 9) / 144]\r\n",
      "\r\n",
      "[Stage 360:====================>                                 (54 + 8) / 144]\r"
     ]
    },
    {
     "name": "stderr",
     "output_type": "stream",
     "text": [
      "\r\n",
      "[Stage 360:=======================>                              (62 + 8) / 144]\r\n",
      "\r\n",
      "[Stage 360:===========================>                          (72 + 8) / 144]\r"
     ]
    },
    {
     "name": "stderr",
     "output_type": "stream",
     "text": [
      "\r\n",
      "[Stage 360:==============================>                       (82 + 9) / 144]\r\n",
      "\r\n",
      "[Stage 360:==================================>                   (93 + 8) / 144]\r"
     ]
    },
    {
     "name": "stderr",
     "output_type": "stream",
     "text": [
      "\r\n",
      "[Stage 360:=====================================>               (103 + 8) / 144]\r\n",
      "\r\n",
      "[Stage 360:======================================>              (105 + 9) / 144]\r"
     ]
    },
    {
     "name": "stderr",
     "output_type": "stream",
     "text": [
      "\r\n",
      "[Stage 360:===========================================>         (117 + 8) / 144]\r"
     ]
    },
    {
     "name": "stderr",
     "output_type": "stream",
     "text": [
      "\r\n",
      "[Stage 360:==============================================>      (125 + 8) / 144]\r\n",
      "\r\n",
      "[Stage 360:==================================================>  (136 + 8) / 144]\r"
     ]
    },
    {
     "name": "stderr",
     "output_type": "stream",
     "text": [
      "\r\n",
      "[Stage 360:====================================================>(142 + 2) / 144]\r"
     ]
    },
    {
     "name": "stderr",
     "output_type": "stream",
     "text": [
      "\r\n",
      "[Stage 361:=============>                                        (37 + 8) / 144]\r"
     ]
    },
    {
     "name": "stderr",
     "output_type": "stream",
     "text": [
      "\r\n",
      "[Stage 361:=====================>                                (56 + 8) / 144]\r"
     ]
    },
    {
     "name": "stderr",
     "output_type": "stream",
     "text": [
      "\r\n",
      "[Stage 361:=========================>                            (68 + 9) / 144]\r\n",
      "\r\n",
      "[Stage 361:================================>                     (86 + 8) / 144]\r"
     ]
    },
    {
     "name": "stderr",
     "output_type": "stream",
     "text": [
      "\r\n",
      "[Stage 361:=====================================>               (102 + 8) / 144]\r\n",
      "\r\n",
      "[Stage 361:============================================>        (121 + 8) / 144]\r"
     ]
    },
    {
     "name": "stderr",
     "output_type": "stream",
     "text": [
      "\r\n",
      "[Stage 361:===============================================>     (130 + 8) / 144]\r\n",
      "\r\n",
      "[Stage 361:====================================================>(142 + 2) / 144]\r"
     ]
    },
    {
     "name": "stderr",
     "output_type": "stream",
     "text": [
      "\r\n",
      "                                                                                \r"
     ]
    },
    {
     "name": "stderr",
     "output_type": "stream",
     "text": [
      "\r\n",
      "[Stage 387:==============>                                      (39 + 11) / 144]\r\n",
      "\r\n",
      "[Stage 387:======================>                               (60 + 8) / 144]\r"
     ]
    },
    {
     "name": "stderr",
     "output_type": "stream",
     "text": [
      "\r\n",
      "[Stage 387:==============================>                       (80 + 8) / 144]\r"
     ]
    },
    {
     "name": "stderr",
     "output_type": "stream",
     "text": [
      "\r\n",
      "[Stage 387:===================================>                  (94 + 8) / 144]\r\n",
      "\r\n",
      "[Stage 387:=======================================>            (109 + 10) / 144]\r"
     ]
    },
    {
     "name": "stderr",
     "output_type": "stream",
     "text": [
      "\r\n",
      "[Stage 387:==============================================>      (125 + 8) / 144]\r"
     ]
    },
    {
     "name": "stderr",
     "output_type": "stream",
     "text": [
      "\r\n",
      "[Stage 388:=========>                                            (26 + 8) / 152]\r\n",
      "\r\n",
      "[Stage 388:===========>                                          (32 + 8) / 152]\r"
     ]
    },
    {
     "name": "stderr",
     "output_type": "stream",
     "text": [
      "\r\n",
      "[Stage 388:==============>                                       (41 + 8) / 152]\r\n",
      "\r\n",
      "[Stage 388:==================>                                   (53 + 8) / 152]\r"
     ]
    },
    {
     "name": "stderr",
     "output_type": "stream",
     "text": [
      "\r\n",
      "[Stage 388:=======================>                              (65 + 8) / 152]\r\n",
      "\r\n",
      "[Stage 388:=========================>                            (73 + 8) / 152]\r"
     ]
    },
    {
     "name": "stderr",
     "output_type": "stream",
     "text": [
      "\r\n",
      "[Stage 388:=============================>                        (84 + 8) / 152]\r\n",
      "\r\n",
      "[Stage 388:=================================>                    (93 + 9) / 152]\r"
     ]
    },
    {
     "name": "stderr",
     "output_type": "stream",
     "text": [
      "\r\n",
      "[Stage 388:==================================>                  (100 + 8) / 152]\r\n",
      "\r\n",
      "[Stage 388:======================================>              (109 + 9) / 152]\r"
     ]
    },
    {
     "name": "stderr",
     "output_type": "stream",
     "text": [
      "\r\n",
      "[Stage 388:=========================================>           (119 + 8) / 152]\r\n",
      "\r\n",
      "[Stage 388:============================================>        (128 + 8) / 152]\r"
     ]
    },
    {
     "name": "stderr",
     "output_type": "stream",
     "text": [
      "\r\n",
      "[Stage 388:==============================================>     (135 + 10) / 152]\r\n",
      "\r\n",
      "[Stage 388:===================================================> (148 + 4) / 152]\r"
     ]
    },
    {
     "name": "stderr",
     "output_type": "stream",
     "text": [
      "\r\n",
      "[Stage 389:==================>                                   (53 + 9) / 152]\r\n",
      "\r\n",
      "[Stage 389:=========================>                            (73 + 8) / 152]\r"
     ]
    },
    {
     "name": "stderr",
     "output_type": "stream",
     "text": [
      "\r\n",
      "[Stage 389:================================>                     (91 + 8) / 152]\r"
     ]
    },
    {
     "name": "stderr",
     "output_type": "stream",
     "text": [
      "\r\n",
      "[Stage 389:=====================================>               (107 + 8) / 152]\r\n",
      "\r\n",
      "[Stage 389:=========================================>          (121 + 10) / 152]\r"
     ]
    },
    {
     "name": "stderr",
     "output_type": "stream",
     "text": [
      "\r\n",
      "[Stage 389:==============================================>      (133 + 8) / 152]\r\n",
      "\r\n",
      "[Stage 389:===================================================> (149 + 3) / 152]\r"
     ]
    },
    {
     "name": "stderr",
     "output_type": "stream",
     "text": [
      "\r\n",
      "                                                                                \r"
     ]
    },
    {
     "name": "stderr",
     "output_type": "stream",
     "text": [
      "\r\n",
      "[Stage 417:=============>                                        (38 + 8) / 152]\r\n",
      "\r\n",
      "[Stage 417:===================>                                  (56 + 8) / 152]\r"
     ]
    },
    {
     "name": "stderr",
     "output_type": "stream",
     "text": [
      "\r\n",
      "[Stage 417:========================>                             (69 + 9) / 152]\r\n",
      "\r\n",
      "[Stage 417:==============================>                       (86 + 9) / 152]\r"
     ]
    },
    {
     "name": "stderr",
     "output_type": "stream",
     "text": [
      "\r\n",
      "[Stage 417:===================================>                 (102 + 9) / 152]\r\n",
      "\r\n",
      "[Stage 417:========================================>            (117 + 9) / 152]\r"
     ]
    },
    {
     "name": "stderr",
     "output_type": "stream",
     "text": [
      "\r\n",
      "[Stage 417:=============================================>       (130 + 8) / 152]\r"
     ]
    },
    {
     "name": "stderr",
     "output_type": "stream",
     "text": [
      "\r\n",
      "[Stage 417:===================================================> (147 + 5) / 152]\r\n",
      "\r\n",
      "                                                                                \r"
     ]
    },
    {
     "name": "stdout",
     "output_type": "stream",
     "text": [
      "Iteration 09 | total_mass=1.000000 | preview=[('1', 0.14792829059900203), ('7', 0.13679026852550694), ('3', 0.11584732305605547)]\n"
     ]
    },
    {
     "name": "stderr",
     "output_type": "stream",
     "text": [
      "\r\n",
      "[Stage 445:=========>                                            (28 + 8) / 160]\r\n",
      "\r\n",
      "[Stage 445:===========>                                          (34 + 8) / 160]\r"
     ]
    },
    {
     "name": "stderr",
     "output_type": "stream",
     "text": [
      "\r\n",
      "[Stage 445:===============>                                      (45 + 8) / 160]\r\n",
      "\r\n",
      "[Stage 445:==================>                                   (55 + 8) / 160]\r"
     ]
    },
    {
     "name": "stderr",
     "output_type": "stream",
     "text": [
      "\r\n",
      "[Stage 445:====================>                                 (60 + 8) / 160]\r\n",
      "\r\n",
      "[Stage 445:=======================>                              (69 + 8) / 160]\r"
     ]
    },
    {
     "name": "stderr",
     "output_type": "stream",
     "text": [
      "\r\n",
      "[Stage 445:==========================>                           (78 + 8) / 160]\r"
     ]
    },
    {
     "name": "stderr",
     "output_type": "stream",
     "text": [
      "\r\n",
      "[Stage 445:=============================>                        (88 + 9) / 160]\r\n",
      "\r\n",
      "[Stage 445:================================>                     (97 + 9) / 160]\r"
     ]
    },
    {
     "name": "stderr",
     "output_type": "stream",
     "text": [
      "\r\n",
      "[Stage 445:==================================>                  (104 + 9) / 160]\r\n",
      "\r\n",
      "[Stage 445:=====================================>               (114 + 8) / 160]\r"
     ]
    },
    {
     "name": "stderr",
     "output_type": "stream",
     "text": [
      "\r\n",
      "[Stage 445:========================================>            (122 + 8) / 160]\r\n",
      "\r\n",
      "[Stage 445:===========================================>         (130 + 8) / 160]\r"
     ]
    },
    {
     "name": "stderr",
     "output_type": "stream",
     "text": [
      "\r\n",
      "[Stage 445:==============================================>      (140 + 8) / 160]\r"
     ]
    },
    {
     "name": "stderr",
     "output_type": "stream",
     "text": [
      "\r\n",
      "[Stage 445:================================================>    (147 + 8) / 160]\r"
     ]
    },
    {
     "name": "stderr",
     "output_type": "stream",
     "text": [
      "\r\n",
      "[Stage 446:===============>                                      (47 + 8) / 160]\r\n",
      "\r\n",
      "[Stage 446:=====================>                                (65 + 8) / 160]\r"
     ]
    },
    {
     "name": "stderr",
     "output_type": "stream",
     "text": [
      "\r\n",
      "[Stage 446:===========================>                          (82 + 9) / 160]\r\n",
      "\r\n",
      "[Stage 446:=================================>                   (100 + 8) / 160]\r"
     ]
    },
    {
     "name": "stderr",
     "output_type": "stream",
     "text": [
      "\r\n",
      "[Stage 446:======================================>              (116 + 8) / 160]\r\n",
      "\r\n",
      "[Stage 446:===========================================>         (132 + 9) / 160]\r"
     ]
    },
    {
     "name": "stderr",
     "output_type": "stream",
     "text": [
      "\r\n",
      "[Stage 446:=================================================>   (150 + 8) / 160]\r\n",
      "\r\n",
      "                                                                                \r"
     ]
    },
    {
     "name": "stderr",
     "output_type": "stream",
     "text": [
      "\r\n",
      "[Stage 475:===============>                                      (47 + 8) / 160]\r\n",
      "\r\n",
      "[Stage 475:====================>                                 (60 + 9) / 160]\r"
     ]
    },
    {
     "name": "stderr",
     "output_type": "stream",
     "text": [
      "\r\n",
      "[Stage 475:=========================>                            (77 + 9) / 160]\r\n",
      "\r\n",
      "[Stage 475:===============================>                      (94 + 9) / 160]\r"
     ]
    },
    {
     "name": "stderr",
     "output_type": "stream",
     "text": [
      "\r\n",
      "[Stage 475:====================================>                (110 + 8) / 160]\r"
     ]
    },
    {
     "name": "stderr",
     "output_type": "stream",
     "text": [
      "\r\n",
      "[Stage 475:===========================================>         (131 + 8) / 160]\r\n",
      "\r\n",
      "[Stage 475:===============================================>     (143 + 9) / 160]\r"
     ]
    },
    {
     "name": "stderr",
     "output_type": "stream",
     "text": [
      "\r\n",
      "[Stage 475:===================================================> (156 + 4) / 160]\r"
     ]
    },
    {
     "name": "stderr",
     "output_type": "stream",
     "text": [
      "\r\n",
      "[Stage 476:========>                                             (26 + 9) / 168]\r\n",
      "\r\n",
      "[Stage 476:============>                                         (38 + 8) / 168]\r"
     ]
    },
    {
     "name": "stderr",
     "output_type": "stream",
     "text": [
      "\r\n",
      "[Stage 476:=============>                                        (42 + 9) / 168]\r\n",
      "\r\n",
      "[Stage 476:================>                                     (50 + 8) / 168]\r"
     ]
    },
    {
     "name": "stderr",
     "output_type": "stream",
     "text": [
      "\r\n",
      "[Stage 476:==================>                                   (59 + 8) / 168]\r"
     ]
    },
    {
     "name": "stderr",
     "output_type": "stream",
     "text": [
      "\r\n",
      "[Stage 476:======================>                               (69 + 8) / 168]\r\n",
      "\r\n",
      "[Stage 476:==========================>                           (81 + 8) / 168]\r"
     ]
    },
    {
     "name": "stderr",
     "output_type": "stream",
     "text": [
      "\r\n",
      "[Stage 476:============================>                         (90 + 9) / 168]\r\n",
      "\r\n",
      "[Stage 476:================================>                    (104 + 8) / 168]\r"
     ]
    },
    {
     "name": "stderr",
     "output_type": "stream",
     "text": [
      "\r\n",
      "[Stage 476:=====================================>               (118 + 8) / 168]\r\n",
      "\r\n",
      "[Stage 476:=======================================>            (128 + 10) / 168]\r"
     ]
    },
    {
     "name": "stderr",
     "output_type": "stream",
     "text": [
      "\r\n",
      "[Stage 476:===========================================>         (139 + 9) / 168]\r"
     ]
    },
    {
     "name": "stderr",
     "output_type": "stream",
     "text": [
      "\r\n",
      "[Stage 476:===============================================>     (152 + 8) / 168]\r\n",
      "\r\n",
      "[Stage 476:====================================================>(165 + 3) / 168]\r"
     ]
    },
    {
     "name": "stderr",
     "output_type": "stream",
     "text": [
      "\r\n",
      "[Stage 477:=================>                                    (54 + 8) / 168]\r"
     ]
    },
    {
     "name": "stderr",
     "output_type": "stream",
     "text": [
      "\r\n",
      "[Stage 477:======================>                              (72 + 10) / 168]\r\n",
      "\r\n",
      "[Stage 477:============================>                        (89 + 10) / 168]\r"
     ]
    },
    {
     "name": "stderr",
     "output_type": "stream",
     "text": [
      "\r\n",
      "[Stage 477:================================>                   (106 + 10) / 168]\r\n",
      "\r\n",
      "[Stage 477:======================================>              (121 + 8) / 168]\r"
     ]
    },
    {
     "name": "stderr",
     "output_type": "stream",
     "text": [
      "\r\n",
      "[Stage 477:============================================>        (140 + 8) / 168]\r\n",
      "\r\n",
      "[Stage 477:==================================================>  (159 + 9) / 168]\r"
     ]
    },
    {
     "name": "stderr",
     "output_type": "stream",
     "text": [
      "\r\n",
      "                                                                                \r"
     ]
    },
    {
     "name": "stderr",
     "output_type": "stream",
     "text": [
      "\r\n",
      "[Stage 508:=============>                                        (42 + 8) / 168]\r\n",
      "\r\n",
      "[Stage 508:===================>                                  (62 + 8) / 168]\r"
     ]
    },
    {
     "name": "stderr",
     "output_type": "stream",
     "text": [
      "\r\n",
      "[Stage 508:==========================>                           (81 + 8) / 168]\r\n",
      "\r\n",
      "[Stage 508:===============================>                      (97 + 9) / 168]\r"
     ]
    },
    {
     "name": "stderr",
     "output_type": "stream",
     "text": [
      "\r\n",
      "[Stage 508:==================================>                 (110 + 10) / 168]\r\n",
      "\r\n",
      "[Stage 508:========================================>            (129 + 8) / 168]\r"
     ]
    },
    {
     "name": "stderr",
     "output_type": "stream",
     "text": [
      "\r\n",
      "[Stage 508:===============================================>     (150 + 8) / 168]\r\n",
      "\r\n",
      "[Stage 508:====================================================>(167 + 1) / 168]\r"
     ]
    },
    {
     "name": "stderr",
     "output_type": "stream",
     "text": [
      "\r\n",
      "                                                                                \r"
     ]
    },
    {
     "name": "stdout",
     "output_type": "stream",
     "text": [
      "Iteration 10 | total_mass=1.000000 | preview=[('1', 0.14799371768224318), ('7', 0.13877581618530058), ('3', 0.11381387830851719)]\n"
     ]
    },
    {
     "name": "stderr",
     "output_type": "stream",
     "text": [
      "\r\n",
      "[Stage 539:===========>                                          (35 + 8) / 168]\r\n",
      "\r\n",
      "[Stage 539:================>                                     (51 + 8) / 168]\r"
     ]
    },
    {
     "name": "stderr",
     "output_type": "stream",
     "text": [
      "\r\n",
      "[Stage 539:======================>                               (69 + 9) / 168]\r\n",
      "\r\n",
      "[Stage 539:===========================>                          (85 + 8) / 168]\r"
     ]
    },
    {
     "name": "stderr",
     "output_type": "stream",
     "text": [
      "\r\n",
      "[Stage 539:===============================>                     (100 + 8) / 168]\r\n",
      "\r\n",
      "[Stage 539:=====================================>               (119 + 9) / 168]\r"
     ]
    },
    {
     "name": "stderr",
     "output_type": "stream",
     "text": [
      "\r\n",
      "[Stage 539:===========================================>         (138 + 8) / 168]\r\n",
      "\r\n",
      "[Stage 539:==============================================>     (150 + 10) / 168]\r"
     ]
    },
    {
     "name": "stderr",
     "output_type": "stream",
     "text": [
      "\r\n",
      "[Stage 539:====================================================>(165 + 3) / 168]\r\n",
      "\r\n",
      "                                                                                \r"
     ]
    },
    {
     "name": "stdout",
     "output_type": "stream",
     "text": [
      "Saved top-10 PPR scores to /home/btj/data-engineering-course/DE0/labs-final/lab3-practice/outputs/ppr_topk.csv\n"
     ]
    },
    {
     "data": {
      "text/plain": [
       "1323"
      ]
     },
     "execution_count": 4,
     "metadata": {},
     "output_type": "execute_result"
    }
   ],
   "source": [
    "from operator import add\n",
    "from contextlib import redirect_stdout\n",
    "from io import StringIO\n",
    "from pyspark.sql import functions as F\n",
    "\n",
    "edges_rdd = spark.sparkContext.textFile(str(karate_path)).filter(lambda line: line.strip() and not line.startswith(\"#\"))\n",
    "edges_pairs = edges_rdd.map(lambda line: line.strip().split()).filter(lambda parts: len(parts) == 2).map(lambda parts: (parts[0], parts[1]))\n",
    "\n",
    "nodes = edges_pairs.flatMap(lambda kv: kv).distinct().collect()\n",
    "adjacency_map = edges_pairs.groupByKey().mapValues(lambda nbrs: list(dict.fromkeys(nbrs))).collectAsMap()\n",
    "for node in nodes:\n",
    "    adjacency_map.setdefault(node, [])\n",
    "\n",
    "adjacency_rdd = spark.sparkContext.parallelize(list(adjacency_map.items())).cache()\n",
    "nodes_rdd = adjacency_rdd.keys().cache()\n",
    "\n",
    "alpha = 0.85\n",
    "num_iters = 10\n",
    "sources = [nodes[0], nodes[2], nodes[4]] if len(nodes) >= 5 else nodes[:1]\n",
    "source_set = set(sources)\n",
    "initial_mass = 1.0 / len(source_set)\n",
    "k = min(10, len(nodes))\n",
    "\n",
    "ranks = nodes_rdd.map(lambda node: (node, initial_mass if node in source_set else 0.0))\n",
    "print(f\"Running PPR with alpha={alpha}, iterations={num_iters}, sources={sources}\")\n",
    "\n",
    "for iteration in range(1, num_iters + 1):\n",
    "    joined = adjacency_rdd.join(ranks)\n",
    "    dangling_mass = joined.filter(lambda kv: len(kv[1][0]) == 0).map(lambda kv: kv[1][1]).sum()\n",
    "    contribs = (\n",
    "        joined\n",
    "        .flatMap(lambda kv: [] if len(kv[1][0]) == 0 else [(nbr, kv[1][1] / len(kv[1][0])) for nbr in kv[1][0]])\n",
    "        .reduceByKey(add)\n",
    "    )\n",
    "    base = (\n",
    "        nodes_rdd.map(lambda node: (node, 0.0))\n",
    "        .leftOuterJoin(contribs)\n",
    "        .mapValues(lambda pair: pair[1] if pair[1] is not None else 0.0)\n",
    "    )\n",
    "    teleport_mass = (1.0 - alpha) + alpha * dangling_mass\n",
    "    jump_mass = teleport_mass / len(source_set)\n",
    "    ranks = base.map(lambda kv: (kv[0], alpha * kv[1] + (jump_mass if kv[0] in source_set else 0.0)))\n",
    "    total_mass = ranks.values().sum()\n",
    "    ranks = ranks.mapValues(lambda value: value / total_mass)\n",
    "    preview = ranks.takeOrdered(3, key=lambda kv: -kv[1])\n",
    "    print(f\"Iteration {iteration:02d} | total_mass={total_mass:.6f} | preview={preview}\")\n",
    "\n",
    "ppr_topk = ranks.takeOrdered(k, key=lambda kv: -kv[1])\n",
    "ppr_df = spark.createDataFrame(ppr_topk, schema=[\"node\", \"score\"]).orderBy(F.desc(\"score\"))\n",
    "\n",
    "output_ppr_path = OUTPUTS_DIR / \"ppr_topk.csv\"\n",
    "ppr_df.toPandas().to_csv(output_ppr_path, index=False)\n",
    "print(f\"Saved top-{k} PPR scores to {output_ppr_path}\")\n",
    "\n",
    "plan_buffer = StringIO()\n",
    "with redirect_stdout(plan_buffer):\n",
    "    ppr_df.explain(\"formatted\")\n",
    "(PROOF_DIR / \"plan_ppr.txt\").write_text(plan_buffer.getvalue())\n"
   ]
  },
  {
   "cell_type": "markdown",
   "id": "a1ae80f6",
   "metadata": {},
   "source": [
    "## 4. Part B — Spam classification (baseline with MLlib)"
   ]
  },
  {
   "cell_type": "code",
   "execution_count": 5,
   "id": "ce91c239",
   "metadata": {
    "execution": {
     "iopub.execute_input": "2025-10-08T23:25:29.199106Z",
     "iopub.status.busy": "2025-10-08T23:25:29.197955Z",
     "iopub.status.idle": "2025-10-08T23:26:01.547006Z",
     "shell.execute_reply": "2025-10-08T23:26:01.545542Z"
    }
   },
   "outputs": [
    {
     "name": "stderr",
     "output_type": "stream",
     "text": [
      "\r\n",
      "[Stage 544:>                                                        (0 + 1) / 1]\r"
     ]
    },
    {
     "name": "stderr",
     "output_type": "stream",
     "text": [
      "\r\n",
      "                                                                                \r"
     ]
    },
    {
     "name": "stdout",
     "output_type": "stream",
     "text": [
      "Training instances: 4503, Validation instances: 1071\n"
     ]
    },
    {
     "name": "stderr",
     "output_type": "stream",
     "text": [
      "\r\n",
      "[Stage 551:>                                                        (0 + 1) / 1]\r\n",
      "\r\n",
      "                                                                                \r"
     ]
    },
    {
     "name": "stderr",
     "output_type": "stream",
     "text": [
      "\r\n",
      "[Stage 619:>                                                        (0 + 1) / 1]\r"
     ]
    },
    {
     "name": "stderr",
     "output_type": "stream",
     "text": [
      "\r\n",
      "                                                                                \r"
     ]
    },
    {
     "name": "stdout",
     "output_type": "stream",
     "text": [
      "Validation AUC: 0.9960\n"
     ]
    },
    {
     "name": "stdout",
     "output_type": "stream",
     "text": [
      "# SMS Spam Classification Metrics\n",
      "\n",
      "AUC: 0.9960\n",
      "Threshold: 0.5\n",
      "Precision: 1.0000\n",
      "Recall: 0.6667\n",
      "\n",
      "## Logistic Regression Summary\n",
      "Intercept: -6.7134\n",
      "Non-zero coefficients: 40793\n",
      "Feature space size: 262144\n"
     ]
    }
   ],
   "source": [
    "import os\n",
    "from pyspark.sql import functions as F, types as T\n",
    "from pyspark.sql.types import DoubleType\n",
    "from pyspark.ml.classification import LogisticRegression\n",
    "from pyspark.ml.evaluation import BinaryClassificationEvaluator\n",
    "\n",
    "schema = T.StructType([\n",
    "    T.StructField(\"label_raw\", T.StringType(), False),\n",
    "    T.StructField(\"text\", T.StringType(), False),\n",
    "])\n",
    "\n",
    "sms_df = spark.read.csv(str(sms_path), sep=\"\t\", schema=schema)\n",
    "sms_df = sms_df.filter(F.col(\"text\").isNotNull())\n",
    "sms_df = sms_df.withColumn(\"label\", F.when(F.col(\"label_raw\") == \"spam\", F.lit(1.0)).otherwise(F.lit(0.0)))\n",
    "\n",
    "features_df = sms_df.select(\"label\", \"text\", featurize_udf(\"text\").alias(\"features\")).cache()\n",
    "\n",
    "train_df, test_df = features_df.randomSplit([0.8, 0.2], seed=42)\n",
    "print(f\"Training instances: {train_df.count()}, Validation instances: {test_df.count()}\")\n",
    "\n",
    "lr = LogisticRegression(\n",
    "    featuresCol=\"features\",\n",
    "    labelCol=\"label\",\n",
    "    predictionCol=\"prediction\",\n",
    "    probabilityCol=\"probability\",\n",
    "    rawPredictionCol=\"rawPrediction\",\n",
    "    regParam=0.01,\n",
    "    elasticNetParam=0.0,\n",
    "    maxIter=80,\n",
    ")\n",
    "\n",
    "lr_model = lr.fit(train_df)\n",
    "predictions = lr_model.transform(test_df).cache()\n",
    "\n",
    "evaluator = BinaryClassificationEvaluator(labelCol=\"label\", rawPredictionCol=\"rawPrediction\", metricName=\"areaUnderROC\")\n",
    "auc = evaluator.evaluate(predictions)\n",
    "print(f\"Validation AUC: {auc:.4f}\")\n",
    "\n",
    "extract_prob_udf = F.udf(lambda v: float(v[1]) if v is not None else 0.0, DoubleType())\n",
    "with_probs = predictions.withColumn(\"prob_spam\", extract_prob_udf(F.col(\"probability\")))\n",
    "threshold = 0.5\n",
    "scored = with_probs.withColumn(\"pred_label\", F.when(F.col(\"prob_spam\") >= threshold, F.lit(1.0)).otherwise(F.lit(0.0)))\n",
    "\n",
    "agg = scored.agg(\n",
    "    F.sum(F.when((F.col(\"label\") == 1.0) & (F.col(\"pred_label\") == 1.0), 1).otherwise(0)).alias(\"tp\"),\n",
    "    F.sum(F.when((F.col(\"label\") == 0.0) & (F.col(\"pred_label\") == 1.0), 1).otherwise(0)).alias(\"fp\"),\n",
    "    F.sum(F.when((F.col(\"label\") == 1.0) & (F.col(\"pred_label\") == 0.0), 1).otherwise(0)).alias(\"fn\"),\n",
    "    F.count(\"*\").alias(\"total\")\n",
    ").collect()[0]\n",
    "\n",
    "tp = float(agg[\"tp\"])\n",
    "fp = float(agg[\"fp\"])\n",
    "fn = float(agg[\"fn\"])\n",
    "precision = tp / (tp + fp) if (tp + fp) else 0.0\n",
    "recall = tp / (tp + fn) if (tp + fn) else 0.0\n",
    "\n",
    "metrics_lines = [\n",
    "    \"# SMS Spam Classification Metrics\",\n",
    "    \"\",\n",
    "    f\"AUC: {auc:.4f}\",\n",
    "    f\"Threshold: {threshold}\",\n",
    "    f\"Precision: {precision:.4f}\",\n",
    "    f\"Recall: {recall:.4f}\",\n",
    "    \"\",\n",
    "    \"## Logistic Regression Summary\",\n",
    "    f\"Intercept: {lr_model.intercept:.4f}\",\n",
    "    f\"Non-zero coefficients: {len([v for v in lr_model.coefficients if v != 0.0])}\",\n",
    "    f\"Feature space size: {FEATURE_HASHSIZE}\",\n",
    "]\n",
    "\n",
    "metrics_path = OUTPUTS_DIR / \"sms_metrics.md\"\n",
    "separator = os.linesep\n",
    "metrics_path.write_text(separator.join(metrics_lines) + separator)\n",
    "print(separator.join(metrics_lines))\n"
   ]
  },
  {
   "cell_type": "markdown",
   "id": "57f759a0",
   "metadata": {},
   "source": [
    "## 5. Part B — Spam classification (manual SGD, optional)"
   ]
  },
  {
   "cell_type": "code",
   "execution_count": 6,
   "id": "f6dc18f1",
   "metadata": {
    "execution": {
     "iopub.execute_input": "2025-10-08T23:26:01.553301Z",
     "iopub.status.busy": "2025-10-08T23:26:01.552837Z",
     "iopub.status.idle": "2025-10-08T23:26:03.861909Z",
     "shell.execute_reply": "2025-10-08T23:26:03.860634Z"
    }
   },
   "outputs": [
    {
     "name": "stdout",
     "output_type": "stream",
     "text": [
      "Epoch 1 completed; learning_rate=0.0900\n"
     ]
    },
    {
     "name": "stdout",
     "output_type": "stream",
     "text": [
      "Epoch 2 completed; learning_rate=0.0810\n"
     ]
    },
    {
     "name": "stdout",
     "output_type": "stream",
     "text": [
      "Epoch 3 completed; learning_rate=0.0729\n"
     ]
    },
    {
     "name": "stdout",
     "output_type": "stream",
     "text": [
      "Epoch 4 completed; learning_rate=0.0656\n"
     ]
    },
    {
     "name": "stdout",
     "output_type": "stream",
     "text": [
      "Epoch 5 completed; learning_rate=0.0590\n",
      "\n",
      "## Manual SGD Summary\n",
      "Epochs: 5\n",
      "Learning rate (final): 0.0590\n",
      "AUC: 0.9863\n",
      "Precision (threshold 0.5): 0.9926\n",
      "Recall (threshold 0.5): 0.9184\n"
     ]
    }
   ],
   "source": [
    "import os\n",
    "import math\n",
    "import random\n",
    "\n",
    "train_records = [(float(row.label), featurize_counts(row.text)) for row in train_df.select(\"label\", \"text\").collect()]\n",
    "test_records = [(float(row.label), featurize_counts(row.text)) for row in test_df.select(\"label\", \"text\").collect()]\n",
    "\n",
    "weights = {}\n",
    "bias = 0.0\n",
    "learning_rate = 0.1\n",
    "reg = 1e-5\n",
    "epochs = 5\n",
    "\n",
    "\n",
    "def sigmoid(x):\n",
    "    return 1.0 / (1.0 + math.exp(-x))\n",
    "\n",
    "\n",
    "for epoch in range(epochs):\n",
    "    random.shuffle(train_records)\n",
    "    for label, features in train_records:\n",
    "        dot = bias\n",
    "        for idx, value in features.items():\n",
    "            dot += weights.get(idx, 0.0) * value\n",
    "        pred = sigmoid(dot)\n",
    "        error = pred - label\n",
    "        for idx, value in features.items():\n",
    "            w = weights.get(idx, 0.0)\n",
    "            grad = error * value + reg * w\n",
    "            weights[idx] = w - learning_rate * grad\n",
    "        bias -= learning_rate * (error + reg * bias)\n",
    "    learning_rate *= 0.9\n",
    "    print(f\"Epoch {epoch+1} completed; learning_rate={learning_rate:.4f}\")\n",
    "\n",
    "predictions_manual = []\n",
    "for label, features in test_records:\n",
    "    dot = bias\n",
    "    for idx, value in features.items():\n",
    "        dot += weights.get(idx, 0.0) * value\n",
    "    prob = sigmoid(dot)\n",
    "    predictions_manual.append((label, prob))\n",
    "\n",
    "threshold_manual = 0.5\n",
    "tp = fp = fn = tn = 0\n",
    "for label, prob in predictions_manual:\n",
    "    pred = 1.0 if prob >= threshold_manual else 0.0\n",
    "    if label == 1.0 and pred == 1.0:\n",
    "        tp += 1\n",
    "    elif label == 0.0 and pred == 1.0:\n",
    "        fp += 1\n",
    "    elif label == 1.0 and pred == 0.0:\n",
    "        fn += 1\n",
    "    else:\n",
    "        tn += 1\n",
    "\n",
    "precision_manual = tp / (tp + fp) if (tp + fp) else 0.0\n",
    "recall_manual = tp / (tp + fn) if (tp + fn) else 0.0\n",
    "\n",
    "sorted_scores = sorted(predictions_manual, key=lambda pair: pair[1])\n",
    "pos = sum(1 for label, _ in sorted_scores if label == 1.0)\n",
    "neg = len(sorted_scores) - pos\n",
    "rank_sum = 0.0\n",
    "for rank, (label, _) in enumerate(sorted_scores, start=1):\n",
    "    if label == 1.0:\n",
    "        rank_sum += rank\n",
    "auc_manual = (rank_sum - pos * (pos + 1) / 2.0) / (pos * neg) if pos and neg else 0.0\n",
    "\n",
    "manual_lines = [\n",
    "    \"\",\n",
    "    \"## Manual SGD Summary\",\n",
    "    f\"Epochs: {epochs}\",\n",
    "    f\"Learning rate (final): {learning_rate:.4f}\",\n",
    "    f\"AUC: {auc_manual:.4f}\",\n",
    "    f\"Precision (threshold {threshold_manual}): {precision_manual:.4f}\",\n",
    "    f\"Recall (threshold {threshold_manual}): {recall_manual:.4f}\",\n",
    "]\n",
    "\n",
    "separator = os.linesep\n",
    "with open(OUTPUTS_DIR / \"sms_metrics.md\", \"a\", encoding=\"utf-8\") as handle:\n",
    "    handle.write(separator.join(manual_lines) + separator)\n",
    "\n",
    "print(separator.join(manual_lines))\n"
   ]
  },
  {
   "cell_type": "markdown",
   "id": "74cb60b7",
   "metadata": {},
   "source": [
    "## 6. Spark UI evidence\n",
    "Open http://localhost:4040 during runs. Capture Files Read, Input Size, Shuffle Read/Write and store screenshots under `proof/`."
   ]
  },
  {
   "cell_type": "markdown",
   "id": "2896790f",
   "metadata": {},
   "source": [
    "## 7. Environment and reproducibility"
   ]
  },
  {
   "cell_type": "code",
   "execution_count": 7,
   "id": "2b36a5d2",
   "metadata": {
    "execution": {
     "iopub.execute_input": "2025-10-08T23:26:03.866143Z",
     "iopub.status.busy": "2025-10-08T23:26:03.865698Z",
     "iopub.status.idle": "2025-10-08T23:26:04.058207Z",
     "shell.execute_reply": "2025-10-08T23:26:04.057047Z"
    }
   },
   "outputs": [
    {
     "name": "stdout",
     "output_type": "stream",
     "text": [
      "Java: openjdk version \"21.0.8\" 2025-07-15\n",
      "Spark configuration (selected):\n"
     ]
    },
    {
     "name": "stdout",
     "output_type": "stream",
     "text": [
      " - spark.app.id = local-1759965811807\n",
      " - spark.app.name = BDA-PracticeLab03\n",
      " - spark.app.startTime = 1759965810192\n",
      " - spark.app.submitTime = 1759965809434\n",
      " - spark.driver.extraJavaOptions = -Djava.net.preferIPv6Addresses=false -XX:+IgnoreUnrecognizedVMOptions --add-modules=jdk.incubator.vector --add-opens=java.base/java.lang=ALL-UNNAMED --add-opens=java.base/java.lang.invoke=ALL-UNNAMED --add-opens=java.base/java.lang.reflect=ALL-UNNAMED --add-opens=java.base/java.io=ALL-UNNAMED --add-opens=java.base/java.net=ALL-UNNAMED --add-opens=java.base/java.nio=ALL-UNNAMED --add-opens=java.base/java.util=ALL-UNNAMED --add-opens=java.base/java.util.concurrent=ALL-UNNAMED --add-opens=java.base/java.util.concurrent.atomic=ALL-UNNAMED --add-opens=java.base/jdk.internal.ref=ALL-UNNAMED --add-opens=java.base/sun.nio.ch=ALL-UNNAMED --add-opens=java.base/sun.nio.cs=ALL-UNNAMED --add-opens=java.base/sun.security.action=ALL-UNNAMED --add-opens=java.base/sun.util.calendar=ALL-UNNAMED --add-opens=java.security.jgss/sun.security.krb5=ALL-UNNAMED -Djdk.reflect.useDirectMethodHandle=false -Dio.netty.tryReflectionSetAccessible=true\n",
      " - spark.driver.host = 172.20.25.150\n",
      " - spark.driver.port = 40831\n",
      " - spark.executor.extraJavaOptions = -Djava.net.preferIPv6Addresses=false -XX:+IgnoreUnrecognizedVMOptions --add-modules=jdk.incubator.vector --add-opens=java.base/java.lang=ALL-UNNAMED --add-opens=java.base/java.lang.invoke=ALL-UNNAMED --add-opens=java.base/java.lang.reflect=ALL-UNNAMED --add-opens=java.base/java.io=ALL-UNNAMED --add-opens=java.base/java.net=ALL-UNNAMED --add-opens=java.base/java.nio=ALL-UNNAMED --add-opens=java.base/java.util=ALL-UNNAMED --add-opens=java.base/java.util.concurrent=ALL-UNNAMED --add-opens=java.base/java.util.concurrent.atomic=ALL-UNNAMED --add-opens=java.base/jdk.internal.ref=ALL-UNNAMED --add-opens=java.base/sun.nio.ch=ALL-UNNAMED --add-opens=java.base/sun.nio.cs=ALL-UNNAMED --add-opens=java.base/sun.security.action=ALL-UNNAMED --add-opens=java.base/sun.util.calendar=ALL-UNNAMED --add-opens=java.security.jgss/sun.security.krb5=ALL-UNNAMED -Djdk.reflect.useDirectMethodHandle=false -Dio.netty.tryReflectionSetAccessible=true\n",
      " - spark.executor.id = driver\n",
      " - spark.hadoop.fs.s3a.vectored.read.max.merged.size = 2M\n",
      " - spark.hadoop.fs.s3a.vectored.read.min.seek.size = 128K\n",
      " - spark.master = local[*]\n",
      " - spark.rdd.compress = True\n",
      " - spark.serializer.objectStreamReset = 100\n",
      " - spark.sql.artifact.isolation.enabled = false\n",
      " - spark.sql.session.timeZone = UTC\n",
      " - spark.sql.shuffle.partitions = 4\n",
      " - spark.sql.warehouse.dir = file:/home/btj/data-engineering-course/DE0/labs-final/lab3-practice/spark-warehouse\n",
      " - spark.submit.deployMode = client\n",
      " - spark.submit.pyFiles = \n",
      " - spark.ui.showConsoleProgress = true\n",
      "Environment summary saved to /home/btj/data-engineering-course/DE0/labs-final/lab3-practice/ENV.md\n"
     ]
    }
   ],
   "source": [
    "import os\n",
    "import subprocess\n",
    "\n",
    "\n",
    "def get_java_version():\n",
    "    try:\n",
    "        output = subprocess.check_output([\"java\", \"-version\"], stderr=subprocess.STDOUT)\n",
    "        return output.decode(\"utf-8\").strip().splitlines()[0]\n",
    "    except Exception as exc:\n",
    "        return f\"Unavailable ({exc})\"\n",
    "\n",
    "java_version = get_java_version()\n",
    "print(f\"Java: {java_version}\")\n",
    "\n",
    "print(\"Spark configuration (selected):\")\n",
    "conf_items = sorted(spark.sparkContext.getConf().getAll())\n",
    "for key, value in conf_items:\n",
    "    print(f\" - {key} = {value}\")\n",
    "\n",
    "env_lines = [\n",
    "    \"# Environment Summary\",\n",
    "    \"\",\n",
    "    f\"- Python: {sys.version.split()[0]}\",\n",
    "    f\"- Spark: {spark.version}\",\n",
    "    f\"- PySpark: {pyspark.__version__}\",\n",
    "    f\"- Java: {java_version}\",\n",
    "    f\"- OS: {platform.platform()}\",\n",
    "    \"\",\n",
    "    \"## Spark Configuration\",\n",
    "]\n",
    "\n",
    "env_lines.extend(f\"- {k} = {v}\" for k, v in conf_items)\n",
    "\n",
    "newline = os.linesep\n",
    "ENV_PATH = BASE_DIR / \"ENV.md\"\n",
    "ENV_PATH.write_text(newline.join(env_lines) + newline)\n",
    "\n",
    "print(f\"Environment summary saved to {ENV_PATH}\")\n"
   ]
  }
 ],
 "metadata": {
  "language_info": {
   "codemirror_mode": {
    "name": "ipython",
    "version": 3
   },
   "file_extension": ".py",
   "mimetype": "text/x-python",
   "name": "python",
   "nbconvert_exporter": "python",
   "pygments_lexer": "ipython3",
   "version": "3.13.5"
  }
 },
 "nbformat": 4,
 "nbformat_minor": 5
}
